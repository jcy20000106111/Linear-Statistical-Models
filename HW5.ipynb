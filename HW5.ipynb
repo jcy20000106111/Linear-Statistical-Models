{
 "cells": [
  {
   "cell_type": "code",
   "execution_count": 50,
   "id": "42bd3d0d",
   "metadata": {},
   "outputs": [
    {
     "name": "stdout",
     "output_type": "stream",
     "text": [
      "   Y  X1  X2  X3\n",
      "0  0  59  52   0\n",
      "1  0  61  55   1\n",
      "2  1  82  51   0\n"
     ]
    },
    {
     "data": {
      "text/plain": [
       "Y     int64\n",
       "X1    int64\n",
       "X2    int64\n",
       "X3    int64\n",
       "dtype: object"
      ]
     },
     "execution_count": 50,
     "metadata": {},
     "output_type": "execute_result"
    }
   ],
   "source": [
    "import pandas as pd\n",
    "import statsmodels.api as sm\n",
    "#Q3\n",
    "#Import data\n",
    "df=pd.read_csv(r'C:\\Users\\Chenyi\\Desktop\\LR\\hw5\\flu_shot.txt',delim_whitespace = True)\n",
    "print(df.head(3))\n",
    "df.dtypes"
   ]
  },
  {
   "cell_type": "code",
   "execution_count": 51,
   "id": "442276b3",
   "metadata": {},
   "outputs": [
    {
     "name": "stdout",
     "output_type": "stream",
     "text": [
      "Optimization terminated successfully.\n",
      "         Current function value: 0.330482\n",
      "         Iterations 7\n"
     ]
    },
    {
     "data": {
      "text/html": [
       "<table class=\"simpletable\">\n",
       "<caption>Logit Regression Results</caption>\n",
       "<tr>\n",
       "  <th>Dep. Variable:</th>           <td>Y</td>        <th>  No. Observations:  </th>  <td>   159</td>  \n",
       "</tr>\n",
       "<tr>\n",
       "  <th>Model:</th>                 <td>Logit</td>      <th>  Df Residuals:      </th>  <td>   155</td>  \n",
       "</tr>\n",
       "<tr>\n",
       "  <th>Method:</th>                 <td>MLE</td>       <th>  Df Model:          </th>  <td>     3</td>  \n",
       "</tr>\n",
       "<tr>\n",
       "  <th>Date:</th>            <td>Mon, 12 Dec 2022</td> <th>  Pseudo R-squ.:     </th>  <td>0.2212</td>  \n",
       "</tr>\n",
       "<tr>\n",
       "  <th>Time:</th>                <td>22:46:02</td>     <th>  Log-Likelihood:    </th> <td> -52.547</td> \n",
       "</tr>\n",
       "<tr>\n",
       "  <th>converged:</th>             <td>True</td>       <th>  LL-Null:           </th> <td> -67.470</td> \n",
       "</tr>\n",
       "<tr>\n",
       "  <th>Covariance Type:</th>     <td>nonrobust</td>    <th>  LLR p-value:       </th> <td>1.486e-06</td>\n",
       "</tr>\n",
       "</table>\n",
       "<table class=\"simpletable\">\n",
       "<tr>\n",
       "      <td></td>         <th>coef</th>     <th>std err</th>      <th>z</th>      <th>P>|z|</th>  <th>[0.025</th>    <th>0.975]</th>  \n",
       "</tr>\n",
       "<tr>\n",
       "  <th>X1</th>        <td>    0.0728</td> <td>    0.030</td> <td>    2.396</td> <td> 0.017</td> <td>    0.013</td> <td>    0.132</td>\n",
       "</tr>\n",
       "<tr>\n",
       "  <th>X2</th>        <td>   -0.0990</td> <td>    0.033</td> <td>   -2.957</td> <td> 0.003</td> <td>   -0.165</td> <td>   -0.033</td>\n",
       "</tr>\n",
       "<tr>\n",
       "  <th>X3</th>        <td>    0.4340</td> <td>    0.522</td> <td>    0.832</td> <td> 0.406</td> <td>   -0.589</td> <td>    1.457</td>\n",
       "</tr>\n",
       "<tr>\n",
       "  <th>intercept</th> <td>   -1.1772</td> <td>    2.982</td> <td>   -0.395</td> <td> 0.693</td> <td>   -7.023</td> <td>    4.668</td>\n",
       "</tr>\n",
       "</table>"
      ],
      "text/plain": [
       "<class 'statsmodels.iolib.summary.Summary'>\n",
       "\"\"\"\n",
       "                           Logit Regression Results                           \n",
       "==============================================================================\n",
       "Dep. Variable:                      Y   No. Observations:                  159\n",
       "Model:                          Logit   Df Residuals:                      155\n",
       "Method:                           MLE   Df Model:                            3\n",
       "Date:                Mon, 12 Dec 2022   Pseudo R-squ.:                  0.2212\n",
       "Time:                        22:46:02   Log-Likelihood:                -52.547\n",
       "converged:                       True   LL-Null:                       -67.470\n",
       "Covariance Type:            nonrobust   LLR p-value:                 1.486e-06\n",
       "==============================================================================\n",
       "                 coef    std err          z      P>|z|      [0.025      0.975]\n",
       "------------------------------------------------------------------------------\n",
       "X1             0.0728      0.030      2.396      0.017       0.013       0.132\n",
       "X2            -0.0990      0.033     -2.957      0.003      -0.165      -0.033\n",
       "X3             0.4340      0.522      0.832      0.406      -0.589       1.457\n",
       "intercept     -1.1772      2.982     -0.395      0.693      -7.023       4.668\n",
       "==============================================================================\n",
       "\"\"\""
      ]
     },
     "execution_count": 51,
     "metadata": {},
     "output_type": "execute_result"
    }
   ],
   "source": [
    "#a\n",
    "df['intercept']=1\n",
    "logit = sm.Logit(df['Y'], df[['X1','X2','X3','intercept']])\n",
    "result = logit.fit()\n",
    "result.summary()"
   ]
  },
  {
   "cell_type": "code",
   "execution_count": 52,
   "id": "5763b2e2",
   "metadata": {},
   "outputs": [],
   "source": [
    "# test_model = sm.GLM(df['Y'], df[['X1','X2','X3','intercept']], family=sm.families.Binomial()).fit()\n",
    "# print(test_model.summary())\n",
    "# test_model.predict([55,60,1,1])"
   ]
  },
  {
   "cell_type": "code",
   "execution_count": 53,
   "id": "148134cb",
   "metadata": {},
   "outputs": [
    {
     "name": "stdout",
     "output_type": "stream",
     "text": [
      "1.0755025255300643\n",
      "0.9057549411897955\n",
      "1.543380056736259\n"
     ]
    }
   ],
   "source": [
    "#b\n",
    "import math\n",
    "par=result.params\n",
    "print(math.exp(par[0]))\n",
    "print(math.exp(par[1]))\n",
    "print(math.exp(par[2]))"
   ]
  },
  {
   "cell_type": "code",
   "execution_count": 54,
   "id": "92f8ff0e",
   "metadata": {},
   "outputs": [
    {
     "data": {
      "text/plain": [
       "0.06422196567439764"
      ]
     },
     "execution_count": 54,
     "metadata": {},
     "output_type": "execute_result"
    }
   ],
   "source": [
    "#c\n",
    "exp=math.exp(par[3]+par[0]*55+par[1]*60+par[2])\n",
    "exp/(1+exp)"
   ]
  },
  {
   "cell_type": "code",
   "execution_count": 55,
   "id": "5ee47c02",
   "metadata": {},
   "outputs": [
    {
     "data": {
      "text/plain": [
       "1.959963984540054"
      ]
     },
     "execution_count": 55,
     "metadata": {},
     "output_type": "execute_result"
    }
   ],
   "source": [
    "#d\n",
    "from scipy.stats import norm\n",
    "z=norm.ppf(1-0.1/4)\n",
    "z"
   ]
  },
  {
   "cell_type": "code",
   "execution_count": 56,
   "id": "da0fdd5c",
   "metadata": {},
   "outputs": [],
   "source": [
    "#f\n",
    "# result2 = sm.Logit(df['Y'], df[['X1','X2','intercept',]]).fit()\n",
    "# result2.summary()"
   ]
  },
  {
   "cell_type": "code",
   "execution_count": 57,
   "id": "5570c03f",
   "metadata": {},
   "outputs": [],
   "source": [
    "# from scipy.stats import chi2\n",
    "# G2=-2*(result2.llf-result.llf)\n",
    "# 1-chi2.cdf(G2,1)"
   ]
  },
  {
   "cell_type": "code",
   "execution_count": 58,
   "id": "0781e41c",
   "metadata": {},
   "outputs": [
    {
     "name": "stdout",
     "output_type": "stream",
     "text": [
      "Optimization terminated successfully.\n",
      "         Current function value: 0.323795\n",
      "         Iterations 8\n"
     ]
    },
    {
     "data": {
      "text/html": [
       "<table class=\"simpletable\">\n",
       "<caption>Logit Regression Results</caption>\n",
       "<tr>\n",
       "  <th>Dep. Variable:</th>           <td>Y</td>        <th>  No. Observations:  </th>  <td>   159</td>  \n",
       "</tr>\n",
       "<tr>\n",
       "  <th>Model:</th>                 <td>Logit</td>      <th>  Df Residuals:      </th>  <td>   152</td>  \n",
       "</tr>\n",
       "<tr>\n",
       "  <th>Method:</th>                 <td>MLE</td>       <th>  Df Model:          </th>  <td>     6</td>  \n",
       "</tr>\n",
       "<tr>\n",
       "  <th>Date:</th>            <td>Mon, 12 Dec 2022</td> <th>  Pseudo R-squ.:     </th>  <td>0.2369</td>  \n",
       "</tr>\n",
       "<tr>\n",
       "  <th>Time:</th>                <td>22:46:02</td>     <th>  Log-Likelihood:    </th> <td> -51.483</td> \n",
       "</tr>\n",
       "<tr>\n",
       "  <th>converged:</th>             <td>True</td>       <th>  LL-Null:           </th> <td> -67.470</td> \n",
       "</tr>\n",
       "<tr>\n",
       "  <th>Covariance Type:</th>     <td>nonrobust</td>    <th>  LLR p-value:       </th> <td>1.651e-05</td>\n",
       "</tr>\n",
       "</table>\n",
       "<table class=\"simpletable\">\n",
       "<tr>\n",
       "      <td></td>         <th>coef</th>     <th>std err</th>      <th>z</th>      <th>P>|z|</th>  <th>[0.025</th>    <th>0.975]</th>  \n",
       "</tr>\n",
       "<tr>\n",
       "  <th>X1</th>        <td>   -0.0332</td> <td>    0.488</td> <td>   -0.068</td> <td> 0.946</td> <td>   -0.989</td> <td>    0.923</td>\n",
       "</tr>\n",
       "<tr>\n",
       "  <th>X2</th>        <td>   -0.7529</td> <td>    0.488</td> <td>   -1.544</td> <td> 0.123</td> <td>   -1.709</td> <td>    0.203</td>\n",
       "</tr>\n",
       "<tr>\n",
       "  <th>X3</th>        <td>    0.6200</td> <td>    0.554</td> <td>    1.119</td> <td> 0.263</td> <td>   -0.466</td> <td>    1.706</td>\n",
       "</tr>\n",
       "<tr>\n",
       "  <th>intercept</th> <td>   19.6040</td> <td>   24.191</td> <td>    0.810</td> <td> 0.418</td> <td>  -27.809</td> <td>   67.017</td>\n",
       "</tr>\n",
       "<tr>\n",
       "  <th>age2</th>      <td>   -0.0005</td> <td>    0.003</td> <td>   -0.177</td> <td> 0.860</td> <td>   -0.007</td> <td>    0.006</td>\n",
       "</tr>\n",
       "<tr>\n",
       "  <th>index2</th>    <td>    0.0040</td> <td>    0.003</td> <td>    1.394</td> <td> 0.163</td> <td>   -0.002</td> <td>    0.010</td>\n",
       "</tr>\n",
       "<tr>\n",
       "  <th>inter</th>     <td>    0.0033</td> <td>    0.004</td> <td>    0.882</td> <td> 0.378</td> <td>   -0.004</td> <td>    0.011</td>\n",
       "</tr>\n",
       "</table>"
      ],
      "text/plain": [
       "<class 'statsmodels.iolib.summary.Summary'>\n",
       "\"\"\"\n",
       "                           Logit Regression Results                           \n",
       "==============================================================================\n",
       "Dep. Variable:                      Y   No. Observations:                  159\n",
       "Model:                          Logit   Df Residuals:                      152\n",
       "Method:                           MLE   Df Model:                            6\n",
       "Date:                Mon, 12 Dec 2022   Pseudo R-squ.:                  0.2369\n",
       "Time:                        22:46:02   Log-Likelihood:                -51.483\n",
       "converged:                       True   LL-Null:                       -67.470\n",
       "Covariance Type:            nonrobust   LLR p-value:                 1.651e-05\n",
       "==============================================================================\n",
       "                 coef    std err          z      P>|z|      [0.025      0.975]\n",
       "------------------------------------------------------------------------------\n",
       "X1            -0.0332      0.488     -0.068      0.946      -0.989       0.923\n",
       "X2            -0.7529      0.488     -1.544      0.123      -1.709       0.203\n",
       "X3             0.6200      0.554      1.119      0.263      -0.466       1.706\n",
       "intercept     19.6040     24.191      0.810      0.418     -27.809      67.017\n",
       "age2          -0.0005      0.003     -0.177      0.860      -0.007       0.006\n",
       "index2         0.0040      0.003      1.394      0.163      -0.002       0.010\n",
       "inter          0.0033      0.004      0.882      0.378      -0.004       0.011\n",
       "==============================================================================\n",
       "\"\"\""
      ]
     },
     "execution_count": 58,
     "metadata": {},
     "output_type": "execute_result"
    }
   ],
   "source": [
    "df['age2']=(df.X1)**2\n",
    "df['index2']=(df.X2)**2\n",
    "df['inter']=df.X1*df.X2\n",
    "result3 = sm.Logit(df['Y'], df[['X1','X2','X3','intercept','age2','index2','inter']]).fit()\n",
    "result3.summary()"
   ]
  },
  {
   "cell_type": "code",
   "execution_count": 59,
   "id": "29a81fe7",
   "metadata": {},
   "outputs": [
    {
     "data": {
      "text/plain": [
       "0.5466044337083797"
      ]
     },
     "execution_count": 59,
     "metadata": {},
     "output_type": "execute_result"
    }
   ],
   "source": [
    "from scipy.stats import chi2\n",
    "G=-2*(result.llf-result3.llf)\n",
    "1-chi2.cdf(G,3)"
   ]
  },
  {
   "cell_type": "code",
   "execution_count": 60,
   "id": "253c7585",
   "metadata": {},
   "outputs": [
    {
     "data": {
      "text/plain": [
       "1.6448536269514722"
      ]
     },
     "execution_count": 60,
     "metadata": {},
     "output_type": "execute_result"
    }
   ],
   "source": [
    "#g\n",
    "z=norm.ppf(0.95)\n",
    "par=result2.params\n",
    "# l=math.exp(par[2]-z*2.915+65*(par[0]-z*0.03)+50*(par[1]-z*0.032))\n",
    "# u=math.exp(par[2]+z*2.915+65*(par[0]+z*0.03)+50*(par[1]+z*0.032))\n",
    "# print(l/(1+l),u/(1+u))\n",
    "z"
   ]
  },
  {
   "cell_type": "code",
   "execution_count": 61,
   "id": "d49e22b1",
   "metadata": {},
   "outputs": [
    {
     "name": "stdout",
     "output_type": "stream",
     "text": [
      "[0.5408805031446541, 0.36477987421383645, 0.2641509433962264, 0.20125786163522014]\n",
      "[0.0, 0.0, 0.0, 0.0]\n",
      "[0.6370370370370371, 0.42962962962962964, 0.3111111111111111, 0.23703703703703705]\n"
     ]
    }
   ],
   "source": [
    "#h\n",
    "import numpy as np\n",
    "\n",
    "cut=[0.05, 0.10, 0.15, 0.20]\n",
    "y=result.predict()\n",
    "judge = np.zeros((len(y),4))\n",
    "for j in range(len(cut)):\n",
    "    for i in range(len(y)):\n",
    "        if y[i]<=cut[j]:\n",
    "                 judge[i,j]=0\n",
    "        else:\n",
    "                 judge[i,j]=1\n",
    "# print(judge)\n",
    "                \n",
    "#total error rate\n",
    "true=df.Y\n",
    "error_rate=[]\n",
    "for j in range(len(cut)):\n",
    "    error=0\n",
    "    for i in range(len(y)):\n",
    "        if judge[i,j]!=true[i]:\n",
    "            error=error+1\n",
    "    error_rate.append(error/len(y))\n",
    "print(error_rate)\n",
    "\n",
    "#error rate for clients receiving the shot\n",
    "error_rate_1=[]\n",
    "for j in range(len(cut)):\n",
    "    error=0\n",
    "    for i in range(len(y)):\n",
    "        if int(y[i])==1:\n",
    "            if judge[i,j]!=true[i]:\n",
    "                error=error+1\n",
    "    error_rate_1.append(error/sum(true))\n",
    "print(error_rate_1)\n",
    "\n",
    "#error rate for clients not receiving the shot\n",
    "error_rate_0=[]\n",
    "for j in range(len(cut)):\n",
    "    error=0\n",
    "    for i in range(len(y)):\n",
    "        if int(y[i])==0:\n",
    "            if judge[i,j]!=true[i]:\n",
    "                error=error+1\n",
    "    error_rate_0.append(error/(len(y)-sum(true)))\n",
    "print(error_rate_0)"
   ]
  },
  {
   "cell_type": "code",
   "execution_count": 62,
   "id": "89002f37",
   "metadata": {},
   "outputs": [],
   "source": [
    "#i\n",
    "from sklearn.metrics import roc_curve, auc\n",
    "fpr,tpr,threshold = roc_curve(true, y)\n",
    "roc_auc=auc(fpr,tpr) "
   ]
  },
  {
   "cell_type": "code",
   "execution_count": 63,
   "id": "cae87327",
   "metadata": {},
   "outputs": [
    {
     "data": {
      "text/plain": [
       "<Figure size 432x288 with 0 Axes>"
      ]
     },
     "metadata": {},
     "output_type": "display_data"
    },
    {
     "data": {
      "image/png": "[encoded data removed]",
      "text/plain": [
       "<Figure size 720x720 with 1 Axes>"
      ]
     },
     "metadata": {
      "needs_background": "light"
     },
     "output_type": "display_data"
    }
   ],
   "source": [
    "import matplotlib.pyplot as plt\n",
    "plt.figure()\n",
    "lw = 2\n",
    "plt.figure(figsize=(10,10))\n",
    "plt.plot(fpr, tpr, color='darkorange',\n",
    "         lw=lw, label='ROC curve (area = %0.2f)' % roc_auc) ###假正率为横坐标，真正率为纵坐标做曲线\n",
    "plt.plot([0, 1], [0, 1], color='navy', lw=lw, linestyle='--')\n",
    "plt.xlim([0.0, 1.0])\n",
    "plt.ylim([0.0, 1.05])\n",
    "plt.xlabel('False Positive Rate')\n",
    "plt.ylabel('True Positive Rate')\n",
    "plt.title('Receiver operating characteristic example')\n",
    "plt.legend(loc=\"lower right\")\n",
    "plt.show()"
   ]
  },
  {
   "cell_type": "code",
   "execution_count": 64,
   "id": "f5c9ba56",
   "metadata": {},
   "outputs": [
    {
     "name": "stderr",
     "output_type": "stream",
     "text": [
      "<ipython-input-64-781385845003>:7: SettingWithCopyWarning: \n",
      "A value is trying to be set on a copy of a slice from a DataFrame.\n",
      "Try using .loc[row_indexer,col_indexer] = value instead\n",
      "\n",
      "See the caveats in the documentation: https://pandas.pydata.org/pandas-docs/stable/user_guide/indexing.html#returning-a-view-versus-a-copy\n",
      "  x['intercept']=1\n"
     ]
    },
    {
     "data": {
      "text/html": [
       "<table class=\"simpletable\">\n",
       "<caption>Generalized Linear Model Regression Results</caption>\n",
       "<tr>\n",
       "  <th>Dep. Variable:</th>       <td>doctorco</td>     <th>  No. Observations:  </th>  <td>  5190</td> \n",
       "</tr>\n",
       "<tr>\n",
       "  <th>Model:</th>                  <td>GLM</td>       <th>  Df Residuals:      </th>  <td>  5180</td> \n",
       "</tr>\n",
       "<tr>\n",
       "  <th>Model Family:</th>         <td>Poisson</td>     <th>  Df Model:          </th>  <td>     9</td> \n",
       "</tr>\n",
       "<tr>\n",
       "  <th>Link Function:</th>          <td>log</td>       <th>  Scale:             </th> <td>  1.0000</td>\n",
       "</tr>\n",
       "<tr>\n",
       "  <th>Method:</th>                <td>IRLS</td>       <th>  Log-Likelihood:    </th> <td> -3357.9</td>\n",
       "</tr>\n",
       "<tr>\n",
       "  <th>Date:</th>            <td>Mon, 12 Dec 2022</td> <th>  Deviance:          </th> <td>  4384.2</td>\n",
       "</tr>\n",
       "<tr>\n",
       "  <th>Time:</th>                <td>22:46:02</td>     <th>  Pearson chi2:      </th> <td>6.87e+03</td>\n",
       "</tr>\n",
       "<tr>\n",
       "  <th>No. Iterations:</th>          <td>6</td>        <th>                     </th>     <td> </td>   \n",
       "</tr>\n",
       "<tr>\n",
       "  <th>Covariance Type:</th>     <td>nonrobust</td>    <th>                     </th>     <td> </td>   \n",
       "</tr>\n",
       "</table>\n",
       "<table class=\"simpletable\">\n",
       "<tr>\n",
       "      <td></td>         <th>coef</th>     <th>std err</th>      <th>z</th>      <th>P>|z|</th>  <th>[0.025</th>    <th>0.975]</th>  \n",
       "</tr>\n",
       "<tr>\n",
       "  <th>sex</th>       <td>    0.1608</td> <td>    0.056</td> <td>    2.875</td> <td> 0.004</td> <td>    0.051</td> <td>    0.270</td>\n",
       "</tr>\n",
       "<tr>\n",
       "  <th>age</th>       <td>    0.3411</td> <td>    0.162</td> <td>    2.100</td> <td> 0.036</td> <td>    0.023</td> <td>    0.660</td>\n",
       "</tr>\n",
       "<tr>\n",
       "  <th>income</th>    <td>   -0.1886</td> <td>    0.085</td> <td>   -2.208</td> <td> 0.027</td> <td>   -0.356</td> <td>   -0.021</td>\n",
       "</tr>\n",
       "<tr>\n",
       "  <th>levyplus</th>  <td>    0.1392</td> <td>    0.071</td> <td>    1.952</td> <td> 0.051</td> <td>   -0.001</td> <td>    0.279</td>\n",
       "</tr>\n",
       "<tr>\n",
       "  <th>freepoor</th>  <td>   -0.4282</td> <td>    0.180</td> <td>   -2.383</td> <td> 0.017</td> <td>   -0.780</td> <td>   -0.076</td>\n",
       "</tr>\n",
       "<tr>\n",
       "  <th>freerepa</th>  <td>    0.1021</td> <td>    0.092</td> <td>    1.114</td> <td> 0.265</td> <td>   -0.078</td> <td>    0.282</td>\n",
       "</tr>\n",
       "<tr>\n",
       "  <th>illness</th>   <td>    0.1959</td> <td>    0.018</td> <td>   11.127</td> <td> 0.000</td> <td>    0.161</td> <td>    0.230</td>\n",
       "</tr>\n",
       "<tr>\n",
       "  <th>actdays</th>   <td>    0.1280</td> <td>    0.005</td> <td>   26.082</td> <td> 0.000</td> <td>    0.118</td> <td>    0.138</td>\n",
       "</tr>\n",
       "<tr>\n",
       "  <th>hscore</th>    <td>    0.0322</td> <td>    0.010</td> <td>    3.227</td> <td> 0.001</td> <td>    0.013</td> <td>    0.052</td>\n",
       "</tr>\n",
       "<tr>\n",
       "  <th>intercept</th> <td>   -2.0837</td> <td>    0.101</td> <td>  -20.619</td> <td> 0.000</td> <td>   -2.282</td> <td>   -1.886</td>\n",
       "</tr>\n",
       "</table>"
      ],
      "text/plain": [
       "<class 'statsmodels.iolib.summary.Summary'>\n",
       "\"\"\"\n",
       "                 Generalized Linear Model Regression Results                  \n",
       "==============================================================================\n",
       "Dep. Variable:               doctorco   No. Observations:                 5190\n",
       "Model:                            GLM   Df Residuals:                     5180\n",
       "Model Family:                 Poisson   Df Model:                            9\n",
       "Link Function:                    log   Scale:                          1.0000\n",
       "Method:                          IRLS   Log-Likelihood:                -3357.9\n",
       "Date:                Mon, 12 Dec 2022   Deviance:                       4384.2\n",
       "Time:                        22:46:02   Pearson chi2:                 6.87e+03\n",
       "No. Iterations:                     6                                         \n",
       "Covariance Type:            nonrobust                                         \n",
       "==============================================================================\n",
       "                 coef    std err          z      P>|z|      [0.025      0.975]\n",
       "------------------------------------------------------------------------------\n",
       "sex            0.1608      0.056      2.875      0.004       0.051       0.270\n",
       "age            0.3411      0.162      2.100      0.036       0.023       0.660\n",
       "income        -0.1886      0.085     -2.208      0.027      -0.356      -0.021\n",
       "levyplus       0.1392      0.071      1.952      0.051      -0.001       0.279\n",
       "freepoor      -0.4282      0.180     -2.383      0.017      -0.780      -0.076\n",
       "freerepa       0.1021      0.092      1.114      0.265      -0.078       0.282\n",
       "illness        0.1959      0.018     11.127      0.000       0.161       0.230\n",
       "actdays        0.1280      0.005     26.082      0.000       0.118       0.138\n",
       "hscore         0.0322      0.010      3.227      0.001       0.013       0.052\n",
       "intercept     -2.0837      0.101    -20.619      0.000      -2.282      -1.886\n",
       "==============================================================================\n",
       "\"\"\""
      ]
     },
     "execution_count": 64,
     "metadata": {},
     "output_type": "execute_result"
    }
   ],
   "source": [
    "#Q4\n",
    "import pyreadr\n",
    "data = pyreadr.read_r(r'C:\\Users\\Chenyi\\Desktop\\LR\\HW5\\dvisits.rda')\n",
    "df=pd.concat(data, ignore_index = True) \n",
    "y=df.doctorco\n",
    "x=df[['sex', 'age','income', 'levyplus', 'freepoor', 'freerepa', 'illness', 'actdays','hscore']]\n",
    "x['intercept']=1\n",
    "#a\n",
    "model = sm.GLM(y,x,family=sm.families.Poisson()).fit()\n",
    "model.summary()\n",
    "\n"
   ]
  },
  {
   "cell_type": "code",
   "execution_count": 65,
   "id": "966bc5d5",
   "metadata": {},
   "outputs": [
    {
     "name": "stdout",
     "output_type": "stream",
     "text": [
      "[0.02619024]\n"
     ]
    }
   ],
   "source": [
    "#b\n",
    "Ey=model.predict([1,0.5,10,0,1,0,2,0,1,1])\n",
    "print(Ey)\n",
    "# par=model.params\n",
    "# math.exp(sum(par*[0,50,10000,0,1,0,2,0,1,1]))"
   ]
  },
  {
   "cell_type": "code",
   "execution_count": 66,
   "id": "9911a1ef",
   "metadata": {},
   "outputs": [
    {
     "data": {
      "text/plain": [
       "array([0.97414975])"
      ]
     },
     "execution_count": 66,
     "metadata": {},
     "output_type": "execute_result"
    }
   ],
   "source": [
    "#c\n",
    "from scipy import stats\n",
    "stats.poisson.pmf(0, Ey)"
   ]
  },
  {
   "cell_type": "code",
   "execution_count": 88,
   "id": "e22c2ae3",
   "metadata": {
    "scrolled": true
   },
   "outputs": [
    {
     "data": {
      "image/png": "[encoded data removed]",
      "text/plain": [
       "<Figure size 432x288 with 1 Axes>"
      ]
     },
     "metadata": {
      "needs_background": "light"
     },
     "output_type": "display_data"
    }
   ],
   "source": [
    "#d\n",
    "# f, axes = plt.subplots(1, 2, figsize=(20, 6))\n",
    "x = np.arange(0, 4, 0.1)\n",
    "y = x\n",
    "plt.plot(model.predict(), model.resid_response**2, 'o')\n",
    "plt.plot(x,y)\n",
    "plt.legend(['r^2','y=x'])\n",
    "plt.ylabel(\"Residuals_square\")\n",
    "plt.xlabel(\"fitted_y\")\n",
    "# axes[1].plot(model.predict(), model.resid_pearson, 'o')\n",
    "# axes[1].set_ylabel(\"Standardized residuals\")\n",
    "# axes[1].set_xlabel(\"fitted_y\")\n",
    "plt.show()"
   ]
  },
  {
   "cell_type": "code",
   "execution_count": 89,
   "id": "f2453c7c",
   "metadata": {},
   "outputs": [
    {
     "name": "stdout",
     "output_type": "stream",
     "text": [
      "1.3270307369895278\n"
     ]
    }
   ],
   "source": [
    "R = model.pearson_chi2 / model.df_resid\n",
    "print(R)"
   ]
  },
  {
   "cell_type": "code",
   "execution_count": null,
   "id": "9db448ec",
   "metadata": {},
   "outputs": [],
   "source": []
  }
 ],
 "metadata": {
  "kernelspec": {
   "display_name": "Python 3",
   "language": "python",
   "name": "python3"
  },
  "language_info": {
   "codemirror_mode": {
    "name": "ipython",
    "version": 3
   },
   "file_extension": ".py",
   "mimetype": "text/x-python",
   "name": "python",
   "nbconvert_exporter": "python",
   "pygments_lexer": "ipython3",
   "version": "3.8.8"
  }
 },
 "nbformat": 4,
 "nbformat_minor": 5
}
