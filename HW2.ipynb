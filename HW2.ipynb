{
 "cells": [
  {
   "cell_type": "code",
   "execution_count": 35,
   "id": "c1e4ceff",
   "metadata": {},
   "outputs": [],
   "source": [
    "import numpy as np\n",
    "import pandas as pd\n",
    "import statsmodels.api as sm\n",
    "from scipy.stats import t"
   ]
  },
  {
   "cell_type": "code",
   "execution_count": 36,
   "id": "58ab7dc9",
   "metadata": {},
   "outputs": [
    {
     "data": {
      "text/html": [
       "<div>\n",
       "<style scoped>\n",
       "    .dataframe tbody tr th:only-of-type {\n",
       "        vertical-align: middle;\n",
       "    }\n",
       "\n",
       "    .dataframe tbody tr th {\n",
       "        vertical-align: top;\n",
       "    }\n",
       "\n",
       "    .dataframe thead th {\n",
       "        text-align: right;\n",
       "    }\n",
       "</style>\n",
       "<table border=\"1\" class=\"dataframe\">\n",
       "  <thead>\n",
       "    <tr style=\"text-align: right;\">\n",
       "      <th></th>\n",
       "      <th>minutes</th>\n",
       "      <th>copiers</th>\n",
       "    </tr>\n",
       "  </thead>\n",
       "  <tbody>\n",
       "    <tr>\n",
       "      <th>0</th>\n",
       "      <td>20</td>\n",
       "      <td>2</td>\n",
       "    </tr>\n",
       "    <tr>\n",
       "      <th>1</th>\n",
       "      <td>60</td>\n",
       "      <td>4</td>\n",
       "    </tr>\n",
       "    <tr>\n",
       "      <th>2</th>\n",
       "      <td>46</td>\n",
       "      <td>3</td>\n",
       "    </tr>\n",
       "    <tr>\n",
       "      <th>3</th>\n",
       "      <td>41</td>\n",
       "      <td>2</td>\n",
       "    </tr>\n",
       "    <tr>\n",
       "      <th>4</th>\n",
       "      <td>12</td>\n",
       "      <td>1</td>\n",
       "    </tr>\n",
       "    <tr>\n",
       "      <th>5</th>\n",
       "      <td>137</td>\n",
       "      <td>10</td>\n",
       "    </tr>\n",
       "    <tr>\n",
       "      <th>6</th>\n",
       "      <td>68</td>\n",
       "      <td>5</td>\n",
       "    </tr>\n",
       "    <tr>\n",
       "      <th>7</th>\n",
       "      <td>89</td>\n",
       "      <td>5</td>\n",
       "    </tr>\n",
       "    <tr>\n",
       "      <th>8</th>\n",
       "      <td>4</td>\n",
       "      <td>1</td>\n",
       "    </tr>\n",
       "    <tr>\n",
       "      <th>9</th>\n",
       "      <td>32</td>\n",
       "      <td>2</td>\n",
       "    </tr>\n",
       "    <tr>\n",
       "      <th>10</th>\n",
       "      <td>144</td>\n",
       "      <td>9</td>\n",
       "    </tr>\n",
       "    <tr>\n",
       "      <th>11</th>\n",
       "      <td>156</td>\n",
       "      <td>10</td>\n",
       "    </tr>\n",
       "    <tr>\n",
       "      <th>12</th>\n",
       "      <td>93</td>\n",
       "      <td>6</td>\n",
       "    </tr>\n",
       "    <tr>\n",
       "      <th>13</th>\n",
       "      <td>36</td>\n",
       "      <td>3</td>\n",
       "    </tr>\n",
       "    <tr>\n",
       "      <th>14</th>\n",
       "      <td>72</td>\n",
       "      <td>4</td>\n",
       "    </tr>\n",
       "    <tr>\n",
       "      <th>15</th>\n",
       "      <td>100</td>\n",
       "      <td>8</td>\n",
       "    </tr>\n",
       "    <tr>\n",
       "      <th>16</th>\n",
       "      <td>105</td>\n",
       "      <td>7</td>\n",
       "    </tr>\n",
       "    <tr>\n",
       "      <th>17</th>\n",
       "      <td>131</td>\n",
       "      <td>8</td>\n",
       "    </tr>\n",
       "    <tr>\n",
       "      <th>18</th>\n",
       "      <td>127</td>\n",
       "      <td>10</td>\n",
       "    </tr>\n",
       "    <tr>\n",
       "      <th>19</th>\n",
       "      <td>57</td>\n",
       "      <td>4</td>\n",
       "    </tr>\n",
       "    <tr>\n",
       "      <th>20</th>\n",
       "      <td>66</td>\n",
       "      <td>5</td>\n",
       "    </tr>\n",
       "    <tr>\n",
       "      <th>21</th>\n",
       "      <td>101</td>\n",
       "      <td>7</td>\n",
       "    </tr>\n",
       "    <tr>\n",
       "      <th>22</th>\n",
       "      <td>109</td>\n",
       "      <td>7</td>\n",
       "    </tr>\n",
       "    <tr>\n",
       "      <th>23</th>\n",
       "      <td>74</td>\n",
       "      <td>5</td>\n",
       "    </tr>\n",
       "    <tr>\n",
       "      <th>24</th>\n",
       "      <td>134</td>\n",
       "      <td>9</td>\n",
       "    </tr>\n",
       "    <tr>\n",
       "      <th>25</th>\n",
       "      <td>112</td>\n",
       "      <td>7</td>\n",
       "    </tr>\n",
       "    <tr>\n",
       "      <th>26</th>\n",
       "      <td>18</td>\n",
       "      <td>2</td>\n",
       "    </tr>\n",
       "    <tr>\n",
       "      <th>27</th>\n",
       "      <td>73</td>\n",
       "      <td>5</td>\n",
       "    </tr>\n",
       "    <tr>\n",
       "      <th>28</th>\n",
       "      <td>111</td>\n",
       "      <td>7</td>\n",
       "    </tr>\n",
       "    <tr>\n",
       "      <th>29</th>\n",
       "      <td>96</td>\n",
       "      <td>6</td>\n",
       "    </tr>\n",
       "    <tr>\n",
       "      <th>30</th>\n",
       "      <td>123</td>\n",
       "      <td>8</td>\n",
       "    </tr>\n",
       "    <tr>\n",
       "      <th>31</th>\n",
       "      <td>90</td>\n",
       "      <td>5</td>\n",
       "    </tr>\n",
       "    <tr>\n",
       "      <th>32</th>\n",
       "      <td>20</td>\n",
       "      <td>2</td>\n",
       "    </tr>\n",
       "    <tr>\n",
       "      <th>33</th>\n",
       "      <td>28</td>\n",
       "      <td>2</td>\n",
       "    </tr>\n",
       "    <tr>\n",
       "      <th>34</th>\n",
       "      <td>3</td>\n",
       "      <td>1</td>\n",
       "    </tr>\n",
       "    <tr>\n",
       "      <th>35</th>\n",
       "      <td>57</td>\n",
       "      <td>4</td>\n",
       "    </tr>\n",
       "    <tr>\n",
       "      <th>36</th>\n",
       "      <td>86</td>\n",
       "      <td>5</td>\n",
       "    </tr>\n",
       "    <tr>\n",
       "      <th>37</th>\n",
       "      <td>132</td>\n",
       "      <td>9</td>\n",
       "    </tr>\n",
       "    <tr>\n",
       "      <th>38</th>\n",
       "      <td>112</td>\n",
       "      <td>7</td>\n",
       "    </tr>\n",
       "    <tr>\n",
       "      <th>39</th>\n",
       "      <td>27</td>\n",
       "      <td>1</td>\n",
       "    </tr>\n",
       "    <tr>\n",
       "      <th>40</th>\n",
       "      <td>131</td>\n",
       "      <td>9</td>\n",
       "    </tr>\n",
       "    <tr>\n",
       "      <th>41</th>\n",
       "      <td>34</td>\n",
       "      <td>2</td>\n",
       "    </tr>\n",
       "    <tr>\n",
       "      <th>42</th>\n",
       "      <td>27</td>\n",
       "      <td>2</td>\n",
       "    </tr>\n",
       "    <tr>\n",
       "      <th>43</th>\n",
       "      <td>61</td>\n",
       "      <td>4</td>\n",
       "    </tr>\n",
       "    <tr>\n",
       "      <th>44</th>\n",
       "      <td>77</td>\n",
       "      <td>5</td>\n",
       "    </tr>\n",
       "  </tbody>\n",
       "</table>\n",
       "</div>"
      ],
      "text/plain": [
       "    minutes  copiers\n",
       "0        20        2\n",
       "1        60        4\n",
       "2        46        3\n",
       "3        41        2\n",
       "4        12        1\n",
       "5       137       10\n",
       "6        68        5\n",
       "7        89        5\n",
       "8         4        1\n",
       "9        32        2\n",
       "10      144        9\n",
       "11      156       10\n",
       "12       93        6\n",
       "13       36        3\n",
       "14       72        4\n",
       "15      100        8\n",
       "16      105        7\n",
       "17      131        8\n",
       "18      127       10\n",
       "19       57        4\n",
       "20       66        5\n",
       "21      101        7\n",
       "22      109        7\n",
       "23       74        5\n",
       "24      134        9\n",
       "25      112        7\n",
       "26       18        2\n",
       "27       73        5\n",
       "28      111        7\n",
       "29       96        6\n",
       "30      123        8\n",
       "31       90        5\n",
       "32       20        2\n",
       "33       28        2\n",
       "34        3        1\n",
       "35       57        4\n",
       "36       86        5\n",
       "37      132        9\n",
       "38      112        7\n",
       "39       27        1\n",
       "40      131        9\n",
       "41       34        2\n",
       "42       27        2\n",
       "43       61        4\n",
       "44       77        5"
      ]
     },
     "execution_count": 36,
     "metadata": {},
     "output_type": "execute_result"
    }
   ],
   "source": [
    "#Q2\n",
    "#Import data\n",
    "df=pd.read_csv(r'C:\\Users\\Chenyi\\Desktop\\LR\\hw1\\copier_maintenance.txt',delim_whitespace = True)\n",
    "df"
   ]
  },
  {
   "cell_type": "code",
   "execution_count": 37,
   "id": "eb3ad776",
   "metadata": {},
   "outputs": [],
   "source": [
    "y=df.loc[:,'minutes'].values #transform series into array\n",
    "x=df.loc[:,'copiers'].values\n",
    "\n",
    "X=np.ones([len(x),2])\n",
    "X[:,1]=x"
   ]
  },
  {
   "cell_type": "code",
   "execution_count": 38,
   "id": "bc3216c4",
   "metadata": {},
   "outputs": [
    {
     "name": "stdout",
     "output_type": "stream",
     "text": [
      "                            OLS Regression Results                            \n",
      "==============================================================================\n",
      "Dep. Variable:                      y   R-squared:                       0.957\n",
      "Model:                            OLS   Adj. R-squared:                  0.957\n",
      "Method:                 Least Squares   F-statistic:                     968.7\n",
      "Date:                Thu, 13 Oct 2022   Prob (F-statistic):           4.01e-31\n",
      "Time:                        18:19:30   Log-Likelihood:                -161.27\n",
      "No. Observations:                  45   AIC:                             326.5\n",
      "Df Residuals:                      43   BIC:                             330.2\n",
      "Df Model:                           1                                         \n",
      "Covariance Type:            nonrobust                                         \n",
      "==============================================================================\n",
      "                 coef    std err          t      P>|t|      [0.025      0.975]\n",
      "------------------------------------------------------------------------------\n",
      "const         -0.5802      2.804     -0.207      0.837      -6.235       5.075\n",
      "x1            15.0352      0.483     31.123      0.000      14.061      16.009\n",
      "==============================================================================\n",
      "Omnibus:                        1.399   Durbin-Watson:                   2.402\n",
      "Prob(Omnibus):                  0.497   Jarque-Bera (JB):                1.167\n",
      "Skew:                          -0.388   Prob(JB):                        0.558\n",
      "Kurtosis:                       2.853   Cond. No.                         12.5\n",
      "==============================================================================\n",
      "\n",
      "Notes:\n",
      "[1] Standard Errors assume that the covariance matrix of the errors is correctly specified.\n"
     ]
    }
   ],
   "source": [
    "model = sm.OLS(y, X).fit()\n",
    "print(model.summary())"
   ]
  },
  {
   "cell_type": "code",
   "execution_count": 39,
   "id": "00bc4de4",
   "metadata": {},
   "outputs": [
    {
     "name": "stdout",
     "output_type": "stream",
     "text": [
      "0.0188954308469501\n"
     ]
    }
   ],
   "source": [
    "#2C\n",
    "test=(15.0352-14)/(0.483)\n",
    "p_value=t.sf(test, 43)\n",
    "print(p_value)"
   ]
  },
  {
   "cell_type": "code",
   "execution_count": 40,
   "id": "3504229d",
   "metadata": {},
   "outputs": [
    {
     "data": {
      "text/html": [
       "<div>\n",
       "<style scoped>\n",
       "    .dataframe tbody tr th:only-of-type {\n",
       "        vertical-align: middle;\n",
       "    }\n",
       "\n",
       "    .dataframe tbody tr th {\n",
       "        vertical-align: top;\n",
       "    }\n",
       "\n",
       "    .dataframe thead th {\n",
       "        text-align: right;\n",
       "    }\n",
       "</style>\n",
       "<table border=\"1\" class=\"dataframe\">\n",
       "  <thead>\n",
       "    <tr style=\"text-align: right;\">\n",
       "      <th></th>\n",
       "      <th>ID</th>\n",
       "      <th>Stay</th>\n",
       "      <th>Age</th>\n",
       "      <th>Risk</th>\n",
       "      <th>Cult</th>\n",
       "      <th>Xray</th>\n",
       "      <th>Beds</th>\n",
       "      <th>MS</th>\n",
       "      <th>Reg</th>\n",
       "      <th>Cen</th>\n",
       "      <th>Nurses</th>\n",
       "      <th>AFS</th>\n",
       "    </tr>\n",
       "  </thead>\n",
       "  <tbody>\n",
       "    <tr>\n",
       "      <th>0</th>\n",
       "      <td>1</td>\n",
       "      <td>7.13</td>\n",
       "      <td>55.7</td>\n",
       "      <td>4.1</td>\n",
       "      <td>9.0</td>\n",
       "      <td>39.6</td>\n",
       "      <td>279</td>\n",
       "      <td>2</td>\n",
       "      <td>4</td>\n",
       "      <td>207</td>\n",
       "      <td>241</td>\n",
       "      <td>60.0</td>\n",
       "    </tr>\n",
       "    <tr>\n",
       "      <th>1</th>\n",
       "      <td>2</td>\n",
       "      <td>8.82</td>\n",
       "      <td>58.2</td>\n",
       "      <td>1.6</td>\n",
       "      <td>3.8</td>\n",
       "      <td>51.7</td>\n",
       "      <td>80</td>\n",
       "      <td>2</td>\n",
       "      <td>2</td>\n",
       "      <td>51</td>\n",
       "      <td>52</td>\n",
       "      <td>40.0</td>\n",
       "    </tr>\n",
       "    <tr>\n",
       "      <th>2</th>\n",
       "      <td>3</td>\n",
       "      <td>8.34</td>\n",
       "      <td>56.9</td>\n",
       "      <td>2.7</td>\n",
       "      <td>8.1</td>\n",
       "      <td>74.0</td>\n",
       "      <td>107</td>\n",
       "      <td>2</td>\n",
       "      <td>3</td>\n",
       "      <td>82</td>\n",
       "      <td>54</td>\n",
       "      <td>20.0</td>\n",
       "    </tr>\n",
       "    <tr>\n",
       "      <th>3</th>\n",
       "      <td>4</td>\n",
       "      <td>8.95</td>\n",
       "      <td>53.7</td>\n",
       "      <td>5.6</td>\n",
       "      <td>18.9</td>\n",
       "      <td>122.8</td>\n",
       "      <td>147</td>\n",
       "      <td>2</td>\n",
       "      <td>4</td>\n",
       "      <td>53</td>\n",
       "      <td>148</td>\n",
       "      <td>40.0</td>\n",
       "    </tr>\n",
       "    <tr>\n",
       "      <th>4</th>\n",
       "      <td>5</td>\n",
       "      <td>11.20</td>\n",
       "      <td>56.5</td>\n",
       "      <td>5.7</td>\n",
       "      <td>34.5</td>\n",
       "      <td>88.9</td>\n",
       "      <td>180</td>\n",
       "      <td>2</td>\n",
       "      <td>1</td>\n",
       "      <td>134</td>\n",
       "      <td>151</td>\n",
       "      <td>40.0</td>\n",
       "    </tr>\n",
       "    <tr>\n",
       "      <th>...</th>\n",
       "      <td>...</td>\n",
       "      <td>...</td>\n",
       "      <td>...</td>\n",
       "      <td>...</td>\n",
       "      <td>...</td>\n",
       "      <td>...</td>\n",
       "      <td>...</td>\n",
       "      <td>...</td>\n",
       "      <td>...</td>\n",
       "      <td>...</td>\n",
       "      <td>...</td>\n",
       "      <td>...</td>\n",
       "    </tr>\n",
       "    <tr>\n",
       "      <th>108</th>\n",
       "      <td>109</td>\n",
       "      <td>11.80</td>\n",
       "      <td>53.8</td>\n",
       "      <td>5.7</td>\n",
       "      <td>9.1</td>\n",
       "      <td>116.9</td>\n",
       "      <td>571</td>\n",
       "      <td>1</td>\n",
       "      <td>2</td>\n",
       "      <td>441</td>\n",
       "      <td>469</td>\n",
       "      <td>62.9</td>\n",
       "    </tr>\n",
       "    <tr>\n",
       "      <th>109</th>\n",
       "      <td>110</td>\n",
       "      <td>9.50</td>\n",
       "      <td>49.3</td>\n",
       "      <td>5.8</td>\n",
       "      <td>42.0</td>\n",
       "      <td>70.9</td>\n",
       "      <td>98</td>\n",
       "      <td>2</td>\n",
       "      <td>3</td>\n",
       "      <td>68</td>\n",
       "      <td>46</td>\n",
       "      <td>22.9</td>\n",
       "    </tr>\n",
       "    <tr>\n",
       "      <th>110</th>\n",
       "      <td>111</td>\n",
       "      <td>7.70</td>\n",
       "      <td>56.9</td>\n",
       "      <td>4.4</td>\n",
       "      <td>12.2</td>\n",
       "      <td>67.9</td>\n",
       "      <td>129</td>\n",
       "      <td>2</td>\n",
       "      <td>4</td>\n",
       "      <td>85</td>\n",
       "      <td>136</td>\n",
       "      <td>62.9</td>\n",
       "    </tr>\n",
       "    <tr>\n",
       "      <th>111</th>\n",
       "      <td>112</td>\n",
       "      <td>17.94</td>\n",
       "      <td>56.2</td>\n",
       "      <td>5.9</td>\n",
       "      <td>26.4</td>\n",
       "      <td>91.8</td>\n",
       "      <td>835</td>\n",
       "      <td>1</td>\n",
       "      <td>1</td>\n",
       "      <td>791</td>\n",
       "      <td>407</td>\n",
       "      <td>62.9</td>\n",
       "    </tr>\n",
       "    <tr>\n",
       "      <th>112</th>\n",
       "      <td>113</td>\n",
       "      <td>9.41</td>\n",
       "      <td>59.5</td>\n",
       "      <td>3.1</td>\n",
       "      <td>20.6</td>\n",
       "      <td>91.7</td>\n",
       "      <td>29</td>\n",
       "      <td>2</td>\n",
       "      <td>3</td>\n",
       "      <td>20</td>\n",
       "      <td>22</td>\n",
       "      <td>22.9</td>\n",
       "    </tr>\n",
       "  </tbody>\n",
       "</table>\n",
       "<p>113 rows × 12 columns</p>\n",
       "</div>"
      ],
      "text/plain": [
       "      ID   Stay   Age  Risk  Cult   Xray  Beds  MS  Reg  Cen  Nurses   AFS\n",
       "0      1   7.13  55.7   4.1   9.0   39.6   279   2    4  207     241  60.0\n",
       "1      2   8.82  58.2   1.6   3.8   51.7    80   2    2   51      52  40.0\n",
       "2      3   8.34  56.9   2.7   8.1   74.0   107   2    3   82      54  20.0\n",
       "3      4   8.95  53.7   5.6  18.9  122.8   147   2    4   53     148  40.0\n",
       "4      5  11.20  56.5   5.7  34.5   88.9   180   2    1  134     151  40.0\n",
       "..   ...    ...   ...   ...   ...    ...   ...  ..  ...  ...     ...   ...\n",
       "108  109  11.80  53.8   5.7   9.1  116.9   571   1    2  441     469  62.9\n",
       "109  110   9.50  49.3   5.8  42.0   70.9    98   2    3   68      46  22.9\n",
       "110  111   7.70  56.9   4.4  12.2   67.9   129   2    4   85     136  62.9\n",
       "111  112  17.94  56.2   5.9  26.4   91.8   835   1    1  791     407  62.9\n",
       "112  113   9.41  59.5   3.1  20.6   91.7    29   2    3   20      22  22.9\n",
       "\n",
       "[113 rows x 12 columns]"
      ]
     },
     "execution_count": 40,
     "metadata": {},
     "output_type": "execute_result"
    }
   ],
   "source": [
    "#Q3\n",
    "df2=pd.read_csv(r'C:\\Users\\Chenyi\\Desktop\\LR\\hw1\\SENIC.txt',delim_whitespace = True)\n",
    "df2"
   ]
  },
  {
   "cell_type": "code",
   "execution_count": 41,
   "id": "cb6b84ac",
   "metadata": {},
   "outputs": [
    {
     "data": {
      "text/html": [
       "<div>\n",
       "<style scoped>\n",
       "    .dataframe tbody tr th:only-of-type {\n",
       "        vertical-align: middle;\n",
       "    }\n",
       "\n",
       "    .dataframe tbody tr th {\n",
       "        vertical-align: top;\n",
       "    }\n",
       "\n",
       "    .dataframe thead th {\n",
       "        text-align: right;\n",
       "    }\n",
       "</style>\n",
       "<table border=\"1\" class=\"dataframe\">\n",
       "  <thead>\n",
       "    <tr style=\"text-align: right;\">\n",
       "      <th></th>\n",
       "      <th>ID</th>\n",
       "      <th>Stay</th>\n",
       "      <th>Age</th>\n",
       "      <th>Risk</th>\n",
       "      <th>Cult</th>\n",
       "      <th>Xray</th>\n",
       "      <th>Beds</th>\n",
       "      <th>MS</th>\n",
       "      <th>Reg</th>\n",
       "      <th>Cen</th>\n",
       "      <th>Nurses</th>\n",
       "      <th>AFS</th>\n",
       "    </tr>\n",
       "  </thead>\n",
       "  <tbody>\n",
       "    <tr>\n",
       "      <th>0</th>\n",
       "      <td>1</td>\n",
       "      <td>7.13</td>\n",
       "      <td>55.7</td>\n",
       "      <td>4.1</td>\n",
       "      <td>9.0</td>\n",
       "      <td>39.6</td>\n",
       "      <td>279</td>\n",
       "      <td>0</td>\n",
       "      <td>4</td>\n",
       "      <td>207</td>\n",
       "      <td>241</td>\n",
       "      <td>60.0</td>\n",
       "    </tr>\n",
       "    <tr>\n",
       "      <th>1</th>\n",
       "      <td>2</td>\n",
       "      <td>8.82</td>\n",
       "      <td>58.2</td>\n",
       "      <td>1.6</td>\n",
       "      <td>3.8</td>\n",
       "      <td>51.7</td>\n",
       "      <td>80</td>\n",
       "      <td>0</td>\n",
       "      <td>2</td>\n",
       "      <td>51</td>\n",
       "      <td>52</td>\n",
       "      <td>40.0</td>\n",
       "    </tr>\n",
       "    <tr>\n",
       "      <th>2</th>\n",
       "      <td>3</td>\n",
       "      <td>8.34</td>\n",
       "      <td>56.9</td>\n",
       "      <td>2.7</td>\n",
       "      <td>8.1</td>\n",
       "      <td>74.0</td>\n",
       "      <td>107</td>\n",
       "      <td>0</td>\n",
       "      <td>3</td>\n",
       "      <td>82</td>\n",
       "      <td>54</td>\n",
       "      <td>20.0</td>\n",
       "    </tr>\n",
       "    <tr>\n",
       "      <th>3</th>\n",
       "      <td>4</td>\n",
       "      <td>8.95</td>\n",
       "      <td>53.7</td>\n",
       "      <td>5.6</td>\n",
       "      <td>18.9</td>\n",
       "      <td>122.8</td>\n",
       "      <td>147</td>\n",
       "      <td>0</td>\n",
       "      <td>4</td>\n",
       "      <td>53</td>\n",
       "      <td>148</td>\n",
       "      <td>40.0</td>\n",
       "    </tr>\n",
       "    <tr>\n",
       "      <th>4</th>\n",
       "      <td>5</td>\n",
       "      <td>11.20</td>\n",
       "      <td>56.5</td>\n",
       "      <td>5.7</td>\n",
       "      <td>34.5</td>\n",
       "      <td>88.9</td>\n",
       "      <td>180</td>\n",
       "      <td>0</td>\n",
       "      <td>1</td>\n",
       "      <td>134</td>\n",
       "      <td>151</td>\n",
       "      <td>40.0</td>\n",
       "    </tr>\n",
       "    <tr>\n",
       "      <th>...</th>\n",
       "      <td>...</td>\n",
       "      <td>...</td>\n",
       "      <td>...</td>\n",
       "      <td>...</td>\n",
       "      <td>...</td>\n",
       "      <td>...</td>\n",
       "      <td>...</td>\n",
       "      <td>...</td>\n",
       "      <td>...</td>\n",
       "      <td>...</td>\n",
       "      <td>...</td>\n",
       "      <td>...</td>\n",
       "    </tr>\n",
       "    <tr>\n",
       "      <th>108</th>\n",
       "      <td>109</td>\n",
       "      <td>11.80</td>\n",
       "      <td>53.8</td>\n",
       "      <td>5.7</td>\n",
       "      <td>9.1</td>\n",
       "      <td>116.9</td>\n",
       "      <td>571</td>\n",
       "      <td>1</td>\n",
       "      <td>2</td>\n",
       "      <td>441</td>\n",
       "      <td>469</td>\n",
       "      <td>62.9</td>\n",
       "    </tr>\n",
       "    <tr>\n",
       "      <th>109</th>\n",
       "      <td>110</td>\n",
       "      <td>9.50</td>\n",
       "      <td>49.3</td>\n",
       "      <td>5.8</td>\n",
       "      <td>42.0</td>\n",
       "      <td>70.9</td>\n",
       "      <td>98</td>\n",
       "      <td>0</td>\n",
       "      <td>3</td>\n",
       "      <td>68</td>\n",
       "      <td>46</td>\n",
       "      <td>22.9</td>\n",
       "    </tr>\n",
       "    <tr>\n",
       "      <th>110</th>\n",
       "      <td>111</td>\n",
       "      <td>7.70</td>\n",
       "      <td>56.9</td>\n",
       "      <td>4.4</td>\n",
       "      <td>12.2</td>\n",
       "      <td>67.9</td>\n",
       "      <td>129</td>\n",
       "      <td>0</td>\n",
       "      <td>4</td>\n",
       "      <td>85</td>\n",
       "      <td>136</td>\n",
       "      <td>62.9</td>\n",
       "    </tr>\n",
       "    <tr>\n",
       "      <th>111</th>\n",
       "      <td>112</td>\n",
       "      <td>17.94</td>\n",
       "      <td>56.2</td>\n",
       "      <td>5.9</td>\n",
       "      <td>26.4</td>\n",
       "      <td>91.8</td>\n",
       "      <td>835</td>\n",
       "      <td>1</td>\n",
       "      <td>1</td>\n",
       "      <td>791</td>\n",
       "      <td>407</td>\n",
       "      <td>62.9</td>\n",
       "    </tr>\n",
       "    <tr>\n",
       "      <th>112</th>\n",
       "      <td>113</td>\n",
       "      <td>9.41</td>\n",
       "      <td>59.5</td>\n",
       "      <td>3.1</td>\n",
       "      <td>20.6</td>\n",
       "      <td>91.7</td>\n",
       "      <td>29</td>\n",
       "      <td>0</td>\n",
       "      <td>3</td>\n",
       "      <td>20</td>\n",
       "      <td>22</td>\n",
       "      <td>22.9</td>\n",
       "    </tr>\n",
       "  </tbody>\n",
       "</table>\n",
       "<p>113 rows × 12 columns</p>\n",
       "</div>"
      ],
      "text/plain": [
       "      ID   Stay   Age  Risk  Cult   Xray  Beds  MS  Reg  Cen  Nurses   AFS\n",
       "0      1   7.13  55.7   4.1   9.0   39.6   279   0    4  207     241  60.0\n",
       "1      2   8.82  58.2   1.6   3.8   51.7    80   0    2   51      52  40.0\n",
       "2      3   8.34  56.9   2.7   8.1   74.0   107   0    3   82      54  20.0\n",
       "3      4   8.95  53.7   5.6  18.9  122.8   147   0    4   53     148  40.0\n",
       "4      5  11.20  56.5   5.7  34.5   88.9   180   0    1  134     151  40.0\n",
       "..   ...    ...   ...   ...   ...    ...   ...  ..  ...  ...     ...   ...\n",
       "108  109  11.80  53.8   5.7   9.1  116.9   571   1    2  441     469  62.9\n",
       "109  110   9.50  49.3   5.8  42.0   70.9    98   0    3   68      46  22.9\n",
       "110  111   7.70  56.9   4.4  12.2   67.9   129   0    4   85     136  62.9\n",
       "111  112  17.94  56.2   5.9  26.4   91.8   835   1    1  791     407  62.9\n",
       "112  113   9.41  59.5   3.1  20.6   91.7    29   0    3   20      22  22.9\n",
       "\n",
       "[113 rows x 12 columns]"
      ]
     },
     "execution_count": 41,
     "metadata": {},
     "output_type": "execute_result"
    }
   ],
   "source": [
    "#3a\n",
    "def change(x):\n",
    "    if x==2:\n",
    "        return 0\n",
    "    else:\n",
    "        return x\n",
    "    \n",
    "df2['MS']=df2['MS'].apply(change)\n",
    "df2"
   ]
  },
  {
   "cell_type": "code",
   "execution_count": 42,
   "id": "f995226d",
   "metadata": {},
   "outputs": [
    {
     "data": {
      "application/vnd.plotly.v1+json": {
       "config": {
        "plotlyServerURL": "https://plot.ly"
       },
       "data": [
        {
         "dimensions": [
          {
           "axis": {
            "matches": true
           },
           "label": "Risk",
           "values": [
            4.1,
            1.6,
            2.7,
            5.6,
            5.7,
            5.1,
            4.6,
            5.4,
            4.3,
            6.3,
            4.9,
            4.3,
            7.7,
            3.7,
            4.2,
            5.5,
            4.5,
            6.4,
            4.2,
            4.1,
            4.2,
            4.8,
            5,
            4.8,
            4,
            3.9,
            4.5,
            3.2,
            4.4,
            4.9,
            5,
            5.2,
            5.3,
            6.1,
            6.3,
            5,
            2.8,
            4.6,
            4.1,
            1.3,
            3.7,
            4.7,
            3,
            5.6,
            5.5,
            4.6,
            6.5,
            5.5,
            1.8,
            4.2,
            5.6,
            4.3,
            7.6,
            7.8,
            3.1,
            3.9,
            3.7,
            4.3,
            3.9,
            4.5,
            3.4,
            5.7,
            5.4,
            4.4,
            5,
            4.3,
            4.4,
            3.7,
            4.5,
            3.5,
            4.2,
            2,
            5.2,
            4.5,
            3.4,
            4.5,
            2.9,
            4.9,
            4.4,
            5.1,
            2.9,
            3.5,
            5.5,
            4.7,
            1.7,
            4.1,
            2.9,
            4.3,
            4.8,
            5.8,
            2.9,
            2,
            1.3,
            5.3,
            5.3,
            2.5,
            3.8,
            4.8,
            2.3,
            6.2,
            2.6,
            4.3,
            2.7,
            6.6,
            4.5,
            2.9,
            1.4,
            2.1,
            5.7,
            5.8,
            4.4,
            5.9,
            3.1
           ]
          },
          {
           "axis": {
            "matches": true
           },
           "label": "Stay",
           "values": [
            7.13,
            8.82,
            8.34,
            8.95,
            11.2,
            9.76,
            9.68,
            11.18,
            8.67,
            8.84,
            11.07,
            8.3,
            12.78,
            7.58,
            9,
            11.08,
            8.28,
            11.62,
            9.06,
            9.35,
            7.53,
            10.24,
            9.78,
            9.84,
            9.2,
            8.28,
            9.31,
            8.19,
            11.65,
            9.89,
            11.03,
            9.84,
            11.77,
            13.59,
            9.74,
            10.33,
            9.97,
            7.84,
            10.47,
            8.16,
            8.48,
            10.72,
            11.2,
            10.12,
            8.37,
            10.16,
            19.56,
            10.9,
            7.67,
            8.88,
            11.48,
            9.23,
            11.41,
            12.07,
            8.63,
            11.15,
            7.14,
            7.65,
            10.73,
            11.46,
            10.42,
            11.18,
            7.93,
            9.66,
            7.78,
            9.42,
            10.02,
            8.58,
            9.61,
            8.03,
            7.39,
            7.08,
            9.53,
            10.05,
            8.45,
            6.7,
            8.9,
            10.23,
            8.88,
            10.3,
            10.79,
            7.94,
            7.63,
            8.77,
            8.09,
            9.05,
            7.91,
            10.39,
            9.36,
            11.41,
            8.86,
            8.93,
            8.92,
            8.15,
            9.77,
            8.54,
            8.66,
            12.01,
            7.95,
            10.15,
            9.76,
            9.89,
            7.14,
            13.95,
            9.44,
            10.8,
            7.14,
            8.02,
            11.8,
            9.5,
            7.7,
            17.94,
            9.41
           ]
          },
          {
           "axis": {
            "matches": true
           },
           "label": "Age",
           "values": [
            55.7,
            58.2,
            56.9,
            53.7,
            56.5,
            50.9,
            57.8,
            45.7,
            48.2,
            56.3,
            53.2,
            57.2,
            56.8,
            56.7,
            56.3,
            50.2,
            48.1,
            53.9,
            52.8,
            53.8,
            42,
            49,
            52.3,
            62.2,
            52.2,
            49.5,
            47.2,
            52.1,
            54.5,
            50.5,
            49.9,
            53,
            54.1,
            54,
            54.4,
            55.8,
            58.2,
            49.1,
            53.2,
            60.9,
            51.1,
            53.8,
            45,
            51.7,
            50.7,
            54.2,
            59.9,
            57.2,
            51.7,
            51.5,
            57.6,
            51.6,
            61.1,
            43.7,
            54,
            56.5,
            59,
            47.1,
            50.6,
            56.9,
            58,
            51,
            64.1,
            52.1,
            45.5,
            50.6,
            49.5,
            55,
            52.4,
            54.2,
            51,
            52,
            51.5,
            52,
            38.8,
            48.6,
            49.7,
            53.2,
            55.8,
            59.6,
            44.2,
            49.5,
            52.1,
            54.5,
            56.9,
            51.2,
            52.8,
            54.6,
            54.1,
            50.4,
            51.3,
            56,
            53.9,
            54.9,
            50.2,
            56.1,
            52.8,
            52.8,
            51.8,
            51.9,
            53.2,
            45.2,
            57.6,
            65.9,
            52.5,
            63.9,
            51.7,
            55,
            53.8,
            49.3,
            56.9,
            56.2,
            59.5
           ]
          },
          {
           "axis": {
            "matches": true
           },
           "label": "Xray",
           "values": [
            39.6,
            51.7,
            74,
            122.8,
            88.9,
            97,
            79,
            85.8,
            90.8,
            82.6,
            122,
            83.8,
            116.9,
            88,
            76.4,
            63.6,
            101.8,
            99.2,
            75.9,
            80.9,
            98.9,
            112.6,
            95.9,
            82.3,
            71.1,
            113.1,
            101.3,
            59.2,
            96.1,
            103.6,
            102.1,
            72.6,
            56,
            111.7,
            76.1,
            104.3,
            76.5,
            87.9,
            69.1,
            58,
            92.8,
            94.1,
            78.9,
            79.1,
            84.8,
            51.5,
            113.7,
            71.9,
            40.4,
            86.9,
            82,
            42.6,
            97.9,
            105.3,
            56.2,
            73.9,
            75.8,
            65.7,
            101,
            97.7,
            59,
            55.9,
            98.1,
            98.3,
            71.6,
            62.8,
            93,
            95.9,
            87.2,
            87.3,
            88.4,
            56.4,
            65.7,
            87.5,
            85,
            80.8,
            86.9,
            77.9,
            76.8,
            88.9,
            56.6,
            92.3,
            61.1,
            47,
            56.9,
            79.8,
            79.5,
            88.3,
            90.6,
            73,
            87.5,
            72.5,
            79.5,
            79.8,
            89.7,
            82.5,
            69.5,
            96.9,
            54.9,
            59.2,
            80.1,
            108.7,
            92.6,
            133.5,
            58.5,
            57.4,
            45.7,
            46.5,
            116.9,
            70.9,
            67.9,
            91.8,
            91.7
           ]
          }
         ],
         "hovertemplate": "%{xaxis.title.text}=%{x}<br>%{yaxis.title.text}=%{y}<extra></extra>",
         "legendgroup": "",
         "marker": {
          "color": "#636efa",
          "symbol": "circle"
         },
         "name": "",
         "showlegend": false,
         "type": "splom"
        }
       ],
       "layout": {
        "dragmode": "select",
        "legend": {
         "tracegroupgap": 0
        },
        "margin": {
         "t": 60
        },
        "template": {
         "data": {
          "bar": [
           {
            "error_x": {
             "color": "#2a3f5f"
            },
            "error_y": {
             "color": "#2a3f5f"
            },
            "marker": {
             "line": {
              "color": "#E5ECF6",
              "width": 0.5
             },
             "pattern": {
              "fillmode": "overlay",
              "size": 10,
              "solidity": 0.2
             }
            },
            "type": "bar"
           }
          ],
          "barpolar": [
           {
            "marker": {
             "line": {
              "color": "#E5ECF6",
              "width": 0.5
             },
             "pattern": {
              "fillmode": "overlay",
              "size": 10,
              "solidity": 0.2
             }
            },
            "type": "barpolar"
           }
          ],
          "carpet": [
           {
            "aaxis": {
             "endlinecolor": "#2a3f5f",
             "gridcolor": "white",
             "linecolor": "white",
             "minorgridcolor": "white",
             "startlinecolor": "#2a3f5f"
            },
            "baxis": {
             "endlinecolor": "#2a3f5f",
             "gridcolor": "white",
             "linecolor": "white",
             "minorgridcolor": "white",
             "startlinecolor": "#2a3f5f"
            },
            "type": "carpet"
           }
          ],
          "choropleth": [
           {
            "colorbar": {
             "outlinewidth": 0,
             "ticks": ""
            },
            "type": "choropleth"
           }
          ],
          "contour": [
           {
            "colorbar": {
             "outlinewidth": 0,
             "ticks": ""
            },
            "colorscale": [
             [
              0,
              "#0d0887"
             ],
             [
              0.1111111111111111,
              "#46039f"
             ],
             [
              0.2222222222222222,
              "#7201a8"
             ],
             [
              0.3333333333333333,
              "#9c179e"
             ],
             [
              0.4444444444444444,
              "#bd3786"
             ],
             [
              0.5555555555555556,
              "#d8576b"
             ],
             [
              0.6666666666666666,
              "#ed7953"
             ],
             [
              0.7777777777777778,
              "#fb9f3a"
             ],
             [
              0.8888888888888888,
              "#fdca26"
             ],
             [
              1,
              "#f0f921"
             ]
            ],
            "type": "contour"
           }
          ],
          "contourcarpet": [
           {
            "colorbar": {
             "outlinewidth": 0,
             "ticks": ""
            },
            "type": "contourcarpet"
           }
          ],
          "heatmap": [
           {
            "colorbar": {
             "outlinewidth": 0,
             "ticks": ""
            },
            "colorscale": [
             [
              0,
              "#0d0887"
             ],
             [
              0.1111111111111111,
              "#46039f"
             ],
             [
              0.2222222222222222,
              "#7201a8"
             ],
             [
              0.3333333333333333,
              "#9c179e"
             ],
             [
              0.4444444444444444,
              "#bd3786"
             ],
             [
              0.5555555555555556,
              "#d8576b"
             ],
             [
              0.6666666666666666,
              "#ed7953"
             ],
             [
              0.7777777777777778,
              "#fb9f3a"
             ],
             [
              0.8888888888888888,
              "#fdca26"
             ],
             [
              1,
              "#f0f921"
             ]
            ],
            "type": "heatmap"
           }
          ],
          "heatmapgl": [
           {
            "colorbar": {
             "outlinewidth": 0,
             "ticks": ""
            },
            "colorscale": [
             [
              0,
              "#0d0887"
             ],
             [
              0.1111111111111111,
              "#46039f"
             ],
             [
              0.2222222222222222,
              "#7201a8"
             ],
             [
              0.3333333333333333,
              "#9c179e"
             ],
             [
              0.4444444444444444,
              "#bd3786"
             ],
             [
              0.5555555555555556,
              "#d8576b"
             ],
             [
              0.6666666666666666,
              "#ed7953"
             ],
             [
              0.7777777777777778,
              "#fb9f3a"
             ],
             [
              0.8888888888888888,
              "#fdca26"
             ],
             [
              1,
              "#f0f921"
             ]
            ],
            "type": "heatmapgl"
           }
          ],
          "histogram": [
           {
            "marker": {
             "pattern": {
              "fillmode": "overlay",
              "size": 10,
              "solidity": 0.2
             }
            },
            "type": "histogram"
           }
          ],
          "histogram2d": [
           {
            "colorbar": {
             "outlinewidth": 0,
             "ticks": ""
            },
            "colorscale": [
             [
              0,
              "#0d0887"
             ],
             [
              0.1111111111111111,
              "#46039f"
             ],
             [
              0.2222222222222222,
              "#7201a8"
             ],
             [
              0.3333333333333333,
              "#9c179e"
             ],
             [
              0.4444444444444444,
              "#bd3786"
             ],
             [
              0.5555555555555556,
              "#d8576b"
             ],
             [
              0.6666666666666666,
              "#ed7953"
             ],
             [
              0.7777777777777778,
              "#fb9f3a"
             ],
             [
              0.8888888888888888,
              "#fdca26"
             ],
             [
              1,
              "#f0f921"
             ]
            ],
            "type": "histogram2d"
           }
          ],
          "histogram2dcontour": [
           {
            "colorbar": {
             "outlinewidth": 0,
             "ticks": ""
            },
            "colorscale": [
             [
              0,
              "#0d0887"
             ],
             [
              0.1111111111111111,
              "#46039f"
             ],
             [
              0.2222222222222222,
              "#7201a8"
             ],
             [
              0.3333333333333333,
              "#9c179e"
             ],
             [
              0.4444444444444444,
              "#bd3786"
             ],
             [
              0.5555555555555556,
              "#d8576b"
             ],
             [
              0.6666666666666666,
              "#ed7953"
             ],
             [
              0.7777777777777778,
              "#fb9f3a"
             ],
             [
              0.8888888888888888,
              "#fdca26"
             ],
             [
              1,
              "#f0f921"
             ]
            ],
            "type": "histogram2dcontour"
           }
          ],
          "mesh3d": [
           {
            "colorbar": {
             "outlinewidth": 0,
             "ticks": ""
            },
            "type": "mesh3d"
           }
          ],
          "parcoords": [
           {
            "line": {
             "colorbar": {
              "outlinewidth": 0,
              "ticks": ""
             }
            },
            "type": "parcoords"
           }
          ],
          "pie": [
           {
            "automargin": true,
            "type": "pie"
           }
          ],
          "scatter": [
           {
            "fillpattern": {
             "fillmode": "overlay",
             "size": 10,
             "solidity": 0.2
            },
            "type": "scatter"
           }
          ],
          "scatter3d": [
           {
            "line": {
             "colorbar": {
              "outlinewidth": 0,
              "ticks": ""
             }
            },
            "marker": {
             "colorbar": {
              "outlinewidth": 0,
              "ticks": ""
             }
            },
            "type": "scatter3d"
           }
          ],
          "scattercarpet": [
           {
            "marker": {
             "colorbar": {
              "outlinewidth": 0,
              "ticks": ""
             }
            },
            "type": "scattercarpet"
           }
          ],
          "scattergeo": [
           {
            "marker": {
             "colorbar": {
              "outlinewidth": 0,
              "ticks": ""
             }
            },
            "type": "scattergeo"
           }
          ],
          "scattergl": [
           {
            "marker": {
             "colorbar": {
              "outlinewidth": 0,
              "ticks": ""
             }
            },
            "type": "scattergl"
           }
          ],
          "scattermapbox": [
           {
            "marker": {
             "colorbar": {
              "outlinewidth": 0,
              "ticks": ""
             }
            },
            "type": "scattermapbox"
           }
          ],
          "scatterpolar": [
           {
            "marker": {
             "colorbar": {
              "outlinewidth": 0,
              "ticks": ""
             }
            },
            "type": "scatterpolar"
           }
          ],
          "scatterpolargl": [
           {
            "marker": {
             "colorbar": {
              "outlinewidth": 0,
              "ticks": ""
             }
            },
            "type": "scatterpolargl"
           }
          ],
          "scatterternary": [
           {
            "marker": {
             "colorbar": {
              "outlinewidth": 0,
              "ticks": ""
             }
            },
            "type": "scatterternary"
           }
          ],
          "surface": [
           {
            "colorbar": {
             "outlinewidth": 0,
             "ticks": ""
            },
            "colorscale": [
             [
              0,
              "#0d0887"
             ],
             [
              0.1111111111111111,
              "#46039f"
             ],
             [
              0.2222222222222222,
              "#7201a8"
             ],
             [
              0.3333333333333333,
              "#9c179e"
             ],
             [
              0.4444444444444444,
              "#bd3786"
             ],
             [
              0.5555555555555556,
              "#d8576b"
             ],
             [
              0.6666666666666666,
              "#ed7953"
             ],
             [
              0.7777777777777778,
              "#fb9f3a"
             ],
             [
              0.8888888888888888,
              "#fdca26"
             ],
             [
              1,
              "#f0f921"
             ]
            ],
            "type": "surface"
           }
          ],
          "table": [
           {
            "cells": {
             "fill": {
              "color": "#EBF0F8"
             },
             "line": {
              "color": "white"
             }
            },
            "header": {
             "fill": {
              "color": "#C8D4E3"
             },
             "line": {
              "color": "white"
             }
            },
            "type": "table"
           }
          ]
         },
         "layout": {
          "annotationdefaults": {
           "arrowcolor": "#2a3f5f",
           "arrowhead": 0,
           "arrowwidth": 1
          },
          "autotypenumbers": "strict",
          "coloraxis": {
           "colorbar": {
            "outlinewidth": 0,
            "ticks": ""
           }
          },
          "colorscale": {
           "diverging": [
            [
             0,
             "#8e0152"
            ],
            [
             0.1,
             "#c51b7d"
            ],
            [
             0.2,
             "#de77ae"
            ],
            [
             0.3,
             "#f1b6da"
            ],
            [
             0.4,
             "#fde0ef"
            ],
            [
             0.5,
             "#f7f7f7"
            ],
            [
             0.6,
             "#e6f5d0"
            ],
            [
             0.7,
             "#b8e186"
            ],
            [
             0.8,
             "#7fbc41"
            ],
            [
             0.9,
             "#4d9221"
            ],
            [
             1,
             "#276419"
            ]
           ],
           "sequential": [
            [
             0,
             "#0d0887"
            ],
            [
             0.1111111111111111,
             "#46039f"
            ],
            [
             0.2222222222222222,
             "#7201a8"
            ],
            [
             0.3333333333333333,
             "#9c179e"
            ],
            [
             0.4444444444444444,
             "#bd3786"
            ],
            [
             0.5555555555555556,
             "#d8576b"
            ],
            [
             0.6666666666666666,
             "#ed7953"
            ],
            [
             0.7777777777777778,
             "#fb9f3a"
            ],
            [
             0.8888888888888888,
             "#fdca26"
            ],
            [
             1,
             "#f0f921"
            ]
           ],
           "sequentialminus": [
            [
             0,
             "#0d0887"
            ],
            [
             0.1111111111111111,
             "#46039f"
            ],
            [
             0.2222222222222222,
             "#7201a8"
            ],
            [
             0.3333333333333333,
             "#9c179e"
            ],
            [
             0.4444444444444444,
             "#bd3786"
            ],
            [
             0.5555555555555556,
             "#d8576b"
            ],
            [
             0.6666666666666666,
             "#ed7953"
            ],
            [
             0.7777777777777778,
             "#fb9f3a"
            ],
            [
             0.8888888888888888,
             "#fdca26"
            ],
            [
             1,
             "#f0f921"
            ]
           ]
          },
          "colorway": [
           "#636efa",
           "#EF553B",
           "#00cc96",
           "#ab63fa",
           "#FFA15A",
           "#19d3f3",
           "#FF6692",
           "#B6E880",
           "#FF97FF",
           "#FECB52"
          ],
          "font": {
           "color": "#2a3f5f"
          },
          "geo": {
           "bgcolor": "white",
           "lakecolor": "white",
           "landcolor": "#E5ECF6",
           "showlakes": true,
           "showland": true,
           "subunitcolor": "white"
          },
          "hoverlabel": {
           "align": "left"
          },
          "hovermode": "closest",
          "mapbox": {
           "style": "light"
          },
          "paper_bgcolor": "white",
          "plot_bgcolor": "#E5ECF6",
          "polar": {
           "angularaxis": {
            "gridcolor": "white",
            "linecolor": "white",
            "ticks": ""
           },
           "bgcolor": "#E5ECF6",
           "radialaxis": {
            "gridcolor": "white",
            "linecolor": "white",
            "ticks": ""
           }
          },
          "scene": {
           "xaxis": {
            "backgroundcolor": "#E5ECF6",
            "gridcolor": "white",
            "gridwidth": 2,
            "linecolor": "white",
            "showbackground": true,
            "ticks": "",
            "zerolinecolor": "white"
           },
           "yaxis": {
            "backgroundcolor": "#E5ECF6",
            "gridcolor": "white",
            "gridwidth": 2,
            "linecolor": "white",
            "showbackground": true,
            "ticks": "",
            "zerolinecolor": "white"
           },
           "zaxis": {
            "backgroundcolor": "#E5ECF6",
            "gridcolor": "white",
            "gridwidth": 2,
            "linecolor": "white",
            "showbackground": true,
            "ticks": "",
            "zerolinecolor": "white"
           }
          },
          "shapedefaults": {
           "line": {
            "color": "#2a3f5f"
           }
          },
          "ternary": {
           "aaxis": {
            "gridcolor": "white",
            "linecolor": "white",
            "ticks": ""
           },
           "baxis": {
            "gridcolor": "white",
            "linecolor": "white",
            "ticks": ""
           },
           "bgcolor": "#E5ECF6",
           "caxis": {
            "gridcolor": "white",
            "linecolor": "white",
            "ticks": ""
           }
          },
          "title": {
           "x": 0.05
          },
          "xaxis": {
           "automargin": true,
           "gridcolor": "white",
           "linecolor": "white",
           "ticks": "",
           "title": {
            "standoff": 15
           },
           "zerolinecolor": "white",
           "zerolinewidth": 2
          },
          "yaxis": {
           "automargin": true,
           "gridcolor": "white",
           "linecolor": "white",
           "ticks": "",
           "title": {
            "standoff": 15
           },
           "zerolinecolor": "white",
           "zerolinewidth": 2
          }
         }
        }
       }
      },
      "text/html": [
       "<div>                            <div id=\"55c82862-c075-4c16-aa87-a60200414410\" class=\"plotly-graph-div\" style=\"height:525px; width:100%;\"></div>            <script type=\"text/javascript\">                require([\"plotly\"], function(Plotly) {                    window.PLOTLYENV=window.PLOTLYENV || {};                                    if (document.getElementById(\"55c82862-c075-4c16-aa87-a60200414410\")) {                    Plotly.newPlot(                        \"55c82862-c075-4c16-aa87-a60200414410\",                        [{\"dimensions\":[{\"axis\":{\"matches\":true},\"label\":\"Risk\",\"values\":[4.1,1.6,2.7,5.6,5.7,5.1,4.6,5.4,4.3,6.3,4.9,4.3,7.7,3.7,4.2,5.5,4.5,6.4,4.2,4.1,4.2,4.8,5.0,4.8,4.0,3.9,4.5,3.2,4.4,4.9,5.0,5.2,5.3,6.1,6.3,5.0,2.8,4.6,4.1,1.3,3.7,4.7,3.0,5.6,5.5,4.6,6.5,5.5,1.8,4.2,5.6,4.3,7.6,7.8,3.1,3.9,3.7,4.3,3.9,4.5,3.4,5.7,5.4,4.4,5.0,4.3,4.4,3.7,4.5,3.5,4.2,2.0,5.2,4.5,3.4,4.5,2.9,4.9,4.4,5.1,2.9,3.5,5.5,4.7,1.7,4.1,2.9,4.3,4.8,5.8,2.9,2.0,1.3,5.3,5.3,2.5,3.8,4.8,2.3,6.2,2.6,4.3,2.7,6.6,4.5,2.9,1.4,2.1,5.7,5.8,4.4,5.9,3.1]},{\"axis\":{\"matches\":true},\"label\":\"Stay\",\"values\":[7.13,8.82,8.34,8.95,11.2,9.76,9.68,11.18,8.67,8.84,11.07,8.3,12.78,7.58,9.0,11.08,8.28,11.62,9.06,9.35,7.53,10.24,9.78,9.84,9.2,8.28,9.31,8.19,11.65,9.89,11.03,9.84,11.77,13.59,9.74,10.33,9.97,7.84,10.47,8.16,8.48,10.72,11.2,10.12,8.37,10.16,19.56,10.9,7.67,8.88,11.48,9.23,11.41,12.07,8.63,11.15,7.14,7.65,10.73,11.46,10.42,11.18,7.93,9.66,7.78,9.42,10.02,8.58,9.61,8.03,7.39,7.08,9.53,10.05,8.45,6.7,8.9,10.23,8.88,10.3,10.79,7.94,7.63,8.77,8.09,9.05,7.91,10.39,9.36,11.41,8.86,8.93,8.92,8.15,9.77,8.54,8.66,12.01,7.95,10.15,9.76,9.89,7.14,13.95,9.44,10.8,7.14,8.02,11.8,9.5,7.7,17.94,9.41]},{\"axis\":{\"matches\":true},\"label\":\"Age\",\"values\":[55.7,58.2,56.9,53.7,56.5,50.9,57.8,45.7,48.2,56.3,53.2,57.2,56.8,56.7,56.3,50.2,48.1,53.9,52.8,53.8,42.0,49.0,52.3,62.2,52.2,49.5,47.2,52.1,54.5,50.5,49.9,53.0,54.1,54.0,54.4,55.8,58.2,49.1,53.2,60.9,51.1,53.8,45.0,51.7,50.7,54.2,59.9,57.2,51.7,51.5,57.6,51.6,61.1,43.7,54.0,56.5,59.0,47.1,50.6,56.9,58.0,51.0,64.1,52.1,45.5,50.6,49.5,55.0,52.4,54.2,51.0,52.0,51.5,52.0,38.8,48.6,49.7,53.2,55.8,59.6,44.2,49.5,52.1,54.5,56.9,51.2,52.8,54.6,54.1,50.4,51.3,56.0,53.9,54.9,50.2,56.1,52.8,52.8,51.8,51.9,53.2,45.2,57.6,65.9,52.5,63.9,51.7,55.0,53.8,49.3,56.9,56.2,59.5]},{\"axis\":{\"matches\":true},\"label\":\"Xray\",\"values\":[39.6,51.7,74.0,122.8,88.9,97.0,79.0,85.8,90.8,82.6,122.0,83.8,116.9,88.0,76.4,63.6,101.8,99.2,75.9,80.9,98.9,112.6,95.9,82.3,71.1,113.1,101.3,59.2,96.1,103.6,102.1,72.6,56.0,111.7,76.1,104.3,76.5,87.9,69.1,58.0,92.8,94.1,78.9,79.1,84.8,51.5,113.7,71.9,40.4,86.9,82.0,42.6,97.9,105.3,56.2,73.9,75.8,65.7,101.0,97.7,59.0,55.9,98.1,98.3,71.6,62.8,93.0,95.9,87.2,87.3,88.4,56.4,65.7,87.5,85.0,80.8,86.9,77.9,76.8,88.9,56.6,92.3,61.1,47.0,56.9,79.8,79.5,88.3,90.6,73.0,87.5,72.5,79.5,79.8,89.7,82.5,69.5,96.9,54.9,59.2,80.1,108.7,92.6,133.5,58.5,57.4,45.7,46.5,116.9,70.9,67.9,91.8,91.7]}],\"hovertemplate\":\"%{xaxis.title.text}=%{x}<br>%{yaxis.title.text}=%{y}<extra></extra>\",\"legendgroup\":\"\",\"marker\":{\"color\":\"#636efa\",\"symbol\":\"circle\"},\"name\":\"\",\"showlegend\":false,\"type\":\"splom\"}],                        {\"template\":{\"data\":{\"histogram2dcontour\":[{\"type\":\"histogram2dcontour\",\"colorbar\":{\"outlinewidth\":0,\"ticks\":\"\"},\"colorscale\":[[0.0,\"#0d0887\"],[0.1111111111111111,\"#46039f\"],[0.2222222222222222,\"#7201a8\"],[0.3333333333333333,\"#9c179e\"],[0.4444444444444444,\"#bd3786\"],[0.5555555555555556,\"#d8576b\"],[0.6666666666666666,\"#ed7953\"],[0.7777777777777778,\"#fb9f3a\"],[0.8888888888888888,\"#fdca26\"],[1.0,\"#f0f921\"]]}],\"choropleth\":[{\"type\":\"choropleth\",\"colorbar\":{\"outlinewidth\":0,\"ticks\":\"\"}}],\"histogram2d\":[{\"type\":\"histogram2d\",\"colorbar\":{\"outlinewidth\":0,\"ticks\":\"\"},\"colorscale\":[[0.0,\"#0d0887\"],[0.1111111111111111,\"#46039f\"],[0.2222222222222222,\"#7201a8\"],[0.3333333333333333,\"#9c179e\"],[0.4444444444444444,\"#bd3786\"],[0.5555555555555556,\"#d8576b\"],[0.6666666666666666,\"#ed7953\"],[0.7777777777777778,\"#fb9f3a\"],[0.8888888888888888,\"#fdca26\"],[1.0,\"#f0f921\"]]}],\"heatmap\":[{\"type\":\"heatmap\",\"colorbar\":{\"outlinewidth\":0,\"ticks\":\"\"},\"colorscale\":[[0.0,\"#0d0887\"],[0.1111111111111111,\"#46039f\"],[0.2222222222222222,\"#7201a8\"],[0.3333333333333333,\"#9c179e\"],[0.4444444444444444,\"#bd3786\"],[0.5555555555555556,\"#d8576b\"],[0.6666666666666666,\"#ed7953\"],[0.7777777777777778,\"#fb9f3a\"],[0.8888888888888888,\"#fdca26\"],[1.0,\"#f0f921\"]]}],\"heatmapgl\":[{\"type\":\"heatmapgl\",\"colorbar\":{\"outlinewidth\":0,\"ticks\":\"\"},\"colorscale\":[[0.0,\"#0d0887\"],[0.1111111111111111,\"#46039f\"],[0.2222222222222222,\"#7201a8\"],[0.3333333333333333,\"#9c179e\"],[0.4444444444444444,\"#bd3786\"],[0.5555555555555556,\"#d8576b\"],[0.6666666666666666,\"#ed7953\"],[0.7777777777777778,\"#fb9f3a\"],[0.8888888888888888,\"#fdca26\"],[1.0,\"#f0f921\"]]}],\"contourcarpet\":[{\"type\":\"contourcarpet\",\"colorbar\":{\"outlinewidth\":0,\"ticks\":\"\"}}],\"contour\":[{\"type\":\"contour\",\"colorbar\":{\"outlinewidth\":0,\"ticks\":\"\"},\"colorscale\":[[0.0,\"#0d0887\"],[0.1111111111111111,\"#46039f\"],[0.2222222222222222,\"#7201a8\"],[0.3333333333333333,\"#9c179e\"],[0.4444444444444444,\"#bd3786\"],[0.5555555555555556,\"#d8576b\"],[0.6666666666666666,\"#ed7953\"],[0.7777777777777778,\"#fb9f3a\"],[0.8888888888888888,\"#fdca26\"],[1.0,\"#f0f921\"]]}],\"surface\":[{\"type\":\"surface\",\"colorbar\":{\"outlinewidth\":0,\"ticks\":\"\"},\"colorscale\":[[0.0,\"#0d0887\"],[0.1111111111111111,\"#46039f\"],[0.2222222222222222,\"#7201a8\"],[0.3333333333333333,\"#9c179e\"],[0.4444444444444444,\"#bd3786\"],[0.5555555555555556,\"#d8576b\"],[0.6666666666666666,\"#ed7953\"],[0.7777777777777778,\"#fb9f3a\"],[0.8888888888888888,\"#fdca26\"],[1.0,\"#f0f921\"]]}],\"mesh3d\":[{\"type\":\"mesh3d\",\"colorbar\":{\"outlinewidth\":0,\"ticks\":\"\"}}],\"scatter\":[{\"fillpattern\":{\"fillmode\":\"overlay\",\"size\":10,\"solidity\":0.2},\"type\":\"scatter\"}],\"parcoords\":[{\"type\":\"parcoords\",\"line\":{\"colorbar\":{\"outlinewidth\":0,\"ticks\":\"\"}}}],\"scatterpolargl\":[{\"type\":\"scatterpolargl\",\"marker\":{\"colorbar\":{\"outlinewidth\":0,\"ticks\":\"\"}}}],\"bar\":[{\"error_x\":{\"color\":\"#2a3f5f\"},\"error_y\":{\"color\":\"#2a3f5f\"},\"marker\":{\"line\":{\"color\":\"#E5ECF6\",\"width\":0.5},\"pattern\":{\"fillmode\":\"overlay\",\"size\":10,\"solidity\":0.2}},\"type\":\"bar\"}],\"scattergeo\":[{\"type\":\"scattergeo\",\"marker\":{\"colorbar\":{\"outlinewidth\":0,\"ticks\":\"\"}}}],\"scatterpolar\":[{\"type\":\"scatterpolar\",\"marker\":{\"colorbar\":{\"outlinewidth\":0,\"ticks\":\"\"}}}],\"histogram\":[{\"marker\":{\"pattern\":{\"fillmode\":\"overlay\",\"size\":10,\"solidity\":0.2}},\"type\":\"histogram\"}],\"scattergl\":[{\"type\":\"scattergl\",\"marker\":{\"colorbar\":{\"outlinewidth\":0,\"ticks\":\"\"}}}],\"scatter3d\":[{\"type\":\"scatter3d\",\"line\":{\"colorbar\":{\"outlinewidth\":0,\"ticks\":\"\"}},\"marker\":{\"colorbar\":{\"outlinewidth\":0,\"ticks\":\"\"}}}],\"scattermapbox\":[{\"type\":\"scattermapbox\",\"marker\":{\"colorbar\":{\"outlinewidth\":0,\"ticks\":\"\"}}}],\"scatterternary\":[{\"type\":\"scatterternary\",\"marker\":{\"colorbar\":{\"outlinewidth\":0,\"ticks\":\"\"}}}],\"scattercarpet\":[{\"type\":\"scattercarpet\",\"marker\":{\"colorbar\":{\"outlinewidth\":0,\"ticks\":\"\"}}}],\"carpet\":[{\"aaxis\":{\"endlinecolor\":\"#2a3f5f\",\"gridcolor\":\"white\",\"linecolor\":\"white\",\"minorgridcolor\":\"white\",\"startlinecolor\":\"#2a3f5f\"},\"baxis\":{\"endlinecolor\":\"#2a3f5f\",\"gridcolor\":\"white\",\"linecolor\":\"white\",\"minorgridcolor\":\"white\",\"startlinecolor\":\"#2a3f5f\"},\"type\":\"carpet\"}],\"table\":[{\"cells\":{\"fill\":{\"color\":\"#EBF0F8\"},\"line\":{\"color\":\"white\"}},\"header\":{\"fill\":{\"color\":\"#C8D4E3\"},\"line\":{\"color\":\"white\"}},\"type\":\"table\"}],\"barpolar\":[{\"marker\":{\"line\":{\"color\":\"#E5ECF6\",\"width\":0.5},\"pattern\":{\"fillmode\":\"overlay\",\"size\":10,\"solidity\":0.2}},\"type\":\"barpolar\"}],\"pie\":[{\"automargin\":true,\"type\":\"pie\"}]},\"layout\":{\"autotypenumbers\":\"strict\",\"colorway\":[\"#636efa\",\"#EF553B\",\"#00cc96\",\"#ab63fa\",\"#FFA15A\",\"#19d3f3\",\"#FF6692\",\"#B6E880\",\"#FF97FF\",\"#FECB52\"],\"font\":{\"color\":\"#2a3f5f\"},\"hovermode\":\"closest\",\"hoverlabel\":{\"align\":\"left\"},\"paper_bgcolor\":\"white\",\"plot_bgcolor\":\"#E5ECF6\",\"polar\":{\"bgcolor\":\"#E5ECF6\",\"angularaxis\":{\"gridcolor\":\"white\",\"linecolor\":\"white\",\"ticks\":\"\"},\"radialaxis\":{\"gridcolor\":\"white\",\"linecolor\":\"white\",\"ticks\":\"\"}},\"ternary\":{\"bgcolor\":\"#E5ECF6\",\"aaxis\":{\"gridcolor\":\"white\",\"linecolor\":\"white\",\"ticks\":\"\"},\"baxis\":{\"gridcolor\":\"white\",\"linecolor\":\"white\",\"ticks\":\"\"},\"caxis\":{\"gridcolor\":\"white\",\"linecolor\":\"white\",\"ticks\":\"\"}},\"coloraxis\":{\"colorbar\":{\"outlinewidth\":0,\"ticks\":\"\"}},\"colorscale\":{\"sequential\":[[0.0,\"#0d0887\"],[0.1111111111111111,\"#46039f\"],[0.2222222222222222,\"#7201a8\"],[0.3333333333333333,\"#9c179e\"],[0.4444444444444444,\"#bd3786\"],[0.5555555555555556,\"#d8576b\"],[0.6666666666666666,\"#ed7953\"],[0.7777777777777778,\"#fb9f3a\"],[0.8888888888888888,\"#fdca26\"],[1.0,\"#f0f921\"]],\"sequentialminus\":[[0.0,\"#0d0887\"],[0.1111111111111111,\"#46039f\"],[0.2222222222222222,\"#7201a8\"],[0.3333333333333333,\"#9c179e\"],[0.4444444444444444,\"#bd3786\"],[0.5555555555555556,\"#d8576b\"],[0.6666666666666666,\"#ed7953\"],[0.7777777777777778,\"#fb9f3a\"],[0.8888888888888888,\"#fdca26\"],[1.0,\"#f0f921\"]],\"diverging\":[[0,\"#8e0152\"],[0.1,\"#c51b7d\"],[0.2,\"#de77ae\"],[0.3,\"#f1b6da\"],[0.4,\"#fde0ef\"],[0.5,\"#f7f7f7\"],[0.6,\"#e6f5d0\"],[0.7,\"#b8e186\"],[0.8,\"#7fbc41\"],[0.9,\"#4d9221\"],[1,\"#276419\"]]},\"xaxis\":{\"gridcolor\":\"white\",\"linecolor\":\"white\",\"ticks\":\"\",\"title\":{\"standoff\":15},\"zerolinecolor\":\"white\",\"automargin\":true,\"zerolinewidth\":2},\"yaxis\":{\"gridcolor\":\"white\",\"linecolor\":\"white\",\"ticks\":\"\",\"title\":{\"standoff\":15},\"zerolinecolor\":\"white\",\"automargin\":true,\"zerolinewidth\":2},\"scene\":{\"xaxis\":{\"backgroundcolor\":\"#E5ECF6\",\"gridcolor\":\"white\",\"linecolor\":\"white\",\"showbackground\":true,\"ticks\":\"\",\"zerolinecolor\":\"white\",\"gridwidth\":2},\"yaxis\":{\"backgroundcolor\":\"#E5ECF6\",\"gridcolor\":\"white\",\"linecolor\":\"white\",\"showbackground\":true,\"ticks\":\"\",\"zerolinecolor\":\"white\",\"gridwidth\":2},\"zaxis\":{\"backgroundcolor\":\"#E5ECF6\",\"gridcolor\":\"white\",\"linecolor\":\"white\",\"showbackground\":true,\"ticks\":\"\",\"zerolinecolor\":\"white\",\"gridwidth\":2}},\"shapedefaults\":{\"line\":{\"color\":\"#2a3f5f\"}},\"annotationdefaults\":{\"arrowcolor\":\"#2a3f5f\",\"arrowhead\":0,\"arrowwidth\":1},\"geo\":{\"bgcolor\":\"white\",\"landcolor\":\"#E5ECF6\",\"subunitcolor\":\"white\",\"showland\":true,\"showlakes\":true,\"lakecolor\":\"white\"},\"title\":{\"x\":0.05},\"mapbox\":{\"style\":\"light\"}}},\"legend\":{\"tracegroupgap\":0},\"margin\":{\"t\":60},\"dragmode\":\"select\"},                        {\"responsive\": true}                    ).then(function(){\n",
       "                            \n",
       "var gd = document.getElementById('55c82862-c075-4c16-aa87-a60200414410');\n",
       "var x = new MutationObserver(function (mutations, observer) {{\n",
       "        var display = window.getComputedStyle(gd).display;\n",
       "        if (!display || display === 'none') {{\n",
       "            console.log([gd, 'removed!']);\n",
       "            Plotly.purge(gd);\n",
       "            observer.disconnect();\n",
       "        }}\n",
       "}});\n",
       "\n",
       "// Listen for the removal of the full notebook cells\n",
       "var notebookContainer = gd.closest('#notebook-container');\n",
       "if (notebookContainer) {{\n",
       "    x.observe(notebookContainer, {childList: true});\n",
       "}}\n",
       "\n",
       "// Listen for the clearing of the current output cell\n",
       "var outputEl = gd.closest('.output');\n",
       "if (outputEl) {{\n",
       "    x.observe(outputEl, {childList: true});\n",
       "}}\n",
       "\n",
       "                        })                };                });            </script>        </div>"
      ]
     },
     "metadata": {},
     "output_type": "display_data"
    }
   ],
   "source": [
    "#3b\n",
    "import plotly.express as px\n",
    "\n",
    "matrix = df2[['Risk','Stay','Age','Xray']]\n",
    "fig = px.scatter_matrix(matrix)\n",
    "fig.show()"
   ]
  },
  {
   "cell_type": "code",
   "execution_count": 43,
   "id": "c82f06fb",
   "metadata": {},
   "outputs": [
    {
     "data": {
      "image/png": "[encoded data removed]",
      "text/plain": [
       "<Figure size 432x288 with 1 Axes>"
      ]
     },
     "metadata": {
      "needs_background": "light"
     },
     "output_type": "display_data"
    },
    {
     "data": {
      "image/png": "[encoded data removed]",
      "text/plain": [
       "<Figure size 432x288 with 1 Axes>"
      ]
     },
     "metadata": {
      "needs_background": "light"
     },
     "output_type": "display_data"
    },
    {
     "data": {
      "image/png": "[encoded data removed]",
      "text/plain": [
       "<Figure size 432x288 with 1 Axes>"
      ]
     },
     "metadata": {
      "needs_background": "light"
     },
     "output_type": "display_data"
    }
   ],
   "source": [
    "import seaborn as sns\n",
    "import matplotlib.pyplot as plt\n",
    "\n",
    "x=['Stay','Age','Xray']\n",
    "for i in x:\n",
    "    sns.scatterplot(x=i, y='Risk',data=df2,hue='MS')\n",
    "    plt.show()"
   ]
  },
  {
   "cell_type": "code",
   "execution_count": 44,
   "id": "d4487dd3",
   "metadata": {},
   "outputs": [
    {
     "name": "stdout",
     "output_type": "stream",
     "text": [
      "                            OLS Regression Results                            \n",
      "==============================================================================\n",
      "Dep. Variable:                      y   R-squared:                       0.368\n",
      "Model:                            OLS   Adj. R-squared:                  0.345\n",
      "Method:                 Least Squares   F-statistic:                     15.73\n",
      "Date:                Thu, 13 Oct 2022   Prob (F-statistic):           3.57e-10\n",
      "Time:                        18:19:31   Log-Likelihood:                -167.05\n",
      "No. Observations:                 113   AIC:                             344.1\n",
      "Df Residuals:                     108   BIC:                             357.7\n",
      "Df Model:                           4                                         \n",
      "Covariance Type:            nonrobust                                         \n",
      "==============================================================================\n",
      "                 coef    std err          t      P>|t|      [0.025      0.975]\n",
      "------------------------------------------------------------------------------\n",
      "const          0.8574      1.324      0.647      0.519      -1.768       3.482\n",
      "x1             0.2888      0.063      4.591      0.000       0.164       0.414\n",
      "x2            -0.0181      0.024     -0.749      0.456      -0.066       0.030\n",
      "x3             0.0200      0.006      3.458      0.001       0.009       0.031\n",
      "x4             0.2878      0.307      0.938      0.350      -0.320       0.896\n",
      "==============================================================================\n",
      "Omnibus:                        0.712   Durbin-Watson:                   1.864\n",
      "Prob(Omnibus):                  0.700   Jarque-Bera (JB):                0.800\n",
      "Skew:                           0.068   Prob(JB):                        0.670\n",
      "Kurtosis:                       2.611   Cond. No.                     1.29e+03\n",
      "==============================================================================\n",
      "\n",
      "Notes:\n",
      "[1] Standard Errors assume that the covariance matrix of the errors is correctly specified.\n",
      "[2] The condition number is large, 1.29e+03. This might indicate that there are\n",
      "strong multicollinearity or other numerical problems.\n",
      "                            OLS Regression Results                            \n",
      "==============================================================================\n",
      "Dep. Variable:                      y   R-squared:                       0.399\n",
      "Model:                            OLS   Adj. R-squared:                  0.359\n",
      "Method:                 Least Squares   F-statistic:                     9.952\n",
      "Date:                Thu, 13 Oct 2022   Prob (F-statistic):           1.75e-09\n",
      "Time:                        18:19:31   Log-Likelihood:                -164.23\n",
      "No. Observations:                 113   AIC:                             344.5\n",
      "Df Residuals:                     105   BIC:                             366.3\n",
      "Df Model:                           7                                         \n",
      "Covariance Type:            nonrobust                                         \n",
      "==============================================================================\n",
      "                 coef    std err          t      P>|t|      [0.025      0.975]\n",
      "------------------------------------------------------------------------------\n",
      "const          0.9720      1.396      0.696      0.488      -1.795       3.739\n",
      "x1             0.2933      0.071      4.142      0.000       0.153       0.434\n",
      "x2            -0.0257      0.025     -1.031      0.305      -0.075       0.024\n",
      "x3             0.0231      0.007      3.483      0.001       0.010       0.036\n",
      "x4            -5.9751      4.614     -1.295      0.198     -15.124       3.174\n",
      "x5            -0.1473      0.159     -0.926      0.357      -0.463       0.168\n",
      "x6             0.1891      0.099      1.901      0.060      -0.008       0.386\n",
      "x7            -0.0226      0.014     -1.612      0.110      -0.050       0.005\n",
      "==============================================================================\n",
      "Omnibus:                        0.878   Durbin-Watson:                   1.811\n",
      "Prob(Omnibus):                  0.645   Jarque-Bera (JB):                0.980\n",
      "Skew:                           0.144   Prob(JB):                        0.613\n",
      "Kurtosis:                       2.647   Cond. No.                     4.62e+03\n",
      "==============================================================================\n",
      "\n",
      "Notes:\n",
      "[1] Standard Errors assume that the covariance matrix of the errors is correctly specified.\n",
      "[2] The condition number is large, 4.62e+03. This might indicate that there are\n",
      "strong multicollinearity or other numerical problems.\n"
     ]
    }
   ],
   "source": [
    "#3C\n",
    "#The first model\n",
    "y=df2['Risk'].values\n",
    "x1=df2['Stay'].tolist()\n",
    "x2=df2['Age'].tolist()\n",
    "x3=df2['Xray'].tolist()\n",
    "x4=df2['MS'].tolist()\n",
    "X1=np.array([[1]*len(y),x1,x2,x3,x4]).T\n",
    "X1\n",
    "\n",
    "model_1 = sm.OLS(y, X1).fit()\n",
    "print(model_1.summary())\n",
    "\n",
    "#The second model\n",
    "def cross_variable(x):\n",
    "    cross=[]\n",
    "    for i in range(len(y)):\n",
    "        cross.append(x[i]*x4[i])\n",
    "    return cross\n",
    "\n",
    "x5=cross_variable(x1)\n",
    "x6=cross_variable(x2)\n",
    "x7=cross_variable(x3)\n",
    "X2=np.array([[1]*len(y),x1,x2,x3,x4,x5,x6,x7]).T\n",
    "model_2= sm.OLS(y, X2).fit()\n",
    "print(model_2.summary())"
   ]
  },
  {
   "cell_type": "code",
   "execution_count": 45,
   "id": "8ba8108c",
   "metadata": {},
   "outputs": [
    {
     "name": "stdout",
     "output_type": "stream",
     "text": [
      "   df_resid         ssr  df_diff   ss_diff         F   Pr(>F)\n",
      "0     108.0  127.243169      0.0       NaN       NaN      NaN\n",
      "1     105.0  121.058094      3.0  6.185075  1.788213  0.15393\n"
     ]
    }
   ],
   "source": [
    "from statsmodels.stats.api import anova_lm\n",
    "print(anova_lm(model_1,model_2))"
   ]
  },
  {
   "cell_type": "code",
   "execution_count": null,
   "id": "c055bade",
   "metadata": {},
   "outputs": [],
   "source": []
  },
  {
   "cell_type": "code",
   "execution_count": null,
   "id": "a0923134",
   "metadata": {},
   "outputs": [],
   "source": []
  },
  {
   "cell_type": "code",
   "execution_count": null,
   "id": "2cf5f91b",
   "metadata": {},
   "outputs": [],
   "source": []
  }
 ],
 "metadata": {
  "kernelspec": {
   "display_name": "Python 3",
   "language": "python",
   "name": "python3"
  },
  "language_info": {
   "codemirror_mode": {
    "name": "ipython",
    "version": 3
   },
   "file_extension": ".py",
   "mimetype": "text/x-python",
   "name": "python",
   "nbconvert_exporter": "python",
   "pygments_lexer": "ipython3",
   "version": "3.8.8"
  }
 },
 "nbformat": 4,
 "nbformat_minor": 5
}
