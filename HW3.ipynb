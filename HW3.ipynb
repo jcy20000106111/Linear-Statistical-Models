{
 "cells": [
  {
   "cell_type": "code",
   "execution_count": 115,
   "id": "fda986c5",
   "metadata": {},
   "outputs": [],
   "source": [
    "import numpy as np\n",
    "import pandas as pd\n",
    "import seaborn as sns\n",
    "import matplotlib.pyplot as plt\n",
    "import statsmodels.api as sm\n",
    "from statsmodels.stats.anova import anova_lm\n",
    "import scipy.stats as st\n",
    "import plotly.express as px\n",
    "import pyreadr"
   ]
  },
  {
   "cell_type": "code",
   "execution_count": 116,
   "id": "d72244a3",
   "metadata": {},
   "outputs": [
    {
     "data": {
      "text/html": [
       "<div>\n",
       "<style scoped>\n",
       "    .dataframe tbody tr th:only-of-type {\n",
       "        vertical-align: middle;\n",
       "    }\n",
       "\n",
       "    .dataframe tbody tr th {\n",
       "        vertical-align: top;\n",
       "    }\n",
       "\n",
       "    .dataframe thead th {\n",
       "        text-align: right;\n",
       "    }\n",
       "</style>\n",
       "<table border=\"1\" class=\"dataframe\">\n",
       "  <thead>\n",
       "    <tr style=\"text-align: right;\">\n",
       "      <th></th>\n",
       "      <th>ID</th>\n",
       "      <th>Stay</th>\n",
       "      <th>Age</th>\n",
       "      <th>Risk</th>\n",
       "      <th>Cult</th>\n",
       "      <th>Xray</th>\n",
       "      <th>Beds</th>\n",
       "      <th>MS</th>\n",
       "      <th>Reg</th>\n",
       "      <th>Cen</th>\n",
       "      <th>Nurses</th>\n",
       "      <th>AFS</th>\n",
       "    </tr>\n",
       "  </thead>\n",
       "  <tbody>\n",
       "    <tr>\n",
       "      <th>0</th>\n",
       "      <td>1</td>\n",
       "      <td>7.13</td>\n",
       "      <td>55.7</td>\n",
       "      <td>4.1</td>\n",
       "      <td>9.0</td>\n",
       "      <td>39.6</td>\n",
       "      <td>279</td>\n",
       "      <td>2</td>\n",
       "      <td>4</td>\n",
       "      <td>207</td>\n",
       "      <td>241</td>\n",
       "      <td>60.0</td>\n",
       "    </tr>\n",
       "    <tr>\n",
       "      <th>1</th>\n",
       "      <td>2</td>\n",
       "      <td>8.82</td>\n",
       "      <td>58.2</td>\n",
       "      <td>1.6</td>\n",
       "      <td>3.8</td>\n",
       "      <td>51.7</td>\n",
       "      <td>80</td>\n",
       "      <td>2</td>\n",
       "      <td>2</td>\n",
       "      <td>51</td>\n",
       "      <td>52</td>\n",
       "      <td>40.0</td>\n",
       "    </tr>\n",
       "    <tr>\n",
       "      <th>2</th>\n",
       "      <td>3</td>\n",
       "      <td>8.34</td>\n",
       "      <td>56.9</td>\n",
       "      <td>2.7</td>\n",
       "      <td>8.1</td>\n",
       "      <td>74.0</td>\n",
       "      <td>107</td>\n",
       "      <td>2</td>\n",
       "      <td>3</td>\n",
       "      <td>82</td>\n",
       "      <td>54</td>\n",
       "      <td>20.0</td>\n",
       "    </tr>\n",
       "    <tr>\n",
       "      <th>3</th>\n",
       "      <td>4</td>\n",
       "      <td>8.95</td>\n",
       "      <td>53.7</td>\n",
       "      <td>5.6</td>\n",
       "      <td>18.9</td>\n",
       "      <td>122.8</td>\n",
       "      <td>147</td>\n",
       "      <td>2</td>\n",
       "      <td>4</td>\n",
       "      <td>53</td>\n",
       "      <td>148</td>\n",
       "      <td>40.0</td>\n",
       "    </tr>\n",
       "    <tr>\n",
       "      <th>4</th>\n",
       "      <td>5</td>\n",
       "      <td>11.20</td>\n",
       "      <td>56.5</td>\n",
       "      <td>5.7</td>\n",
       "      <td>34.5</td>\n",
       "      <td>88.9</td>\n",
       "      <td>180</td>\n",
       "      <td>2</td>\n",
       "      <td>1</td>\n",
       "      <td>134</td>\n",
       "      <td>151</td>\n",
       "      <td>40.0</td>\n",
       "    </tr>\n",
       "    <tr>\n",
       "      <th>...</th>\n",
       "      <td>...</td>\n",
       "      <td>...</td>\n",
       "      <td>...</td>\n",
       "      <td>...</td>\n",
       "      <td>...</td>\n",
       "      <td>...</td>\n",
       "      <td>...</td>\n",
       "      <td>...</td>\n",
       "      <td>...</td>\n",
       "      <td>...</td>\n",
       "      <td>...</td>\n",
       "      <td>...</td>\n",
       "    </tr>\n",
       "    <tr>\n",
       "      <th>108</th>\n",
       "      <td>109</td>\n",
       "      <td>11.80</td>\n",
       "      <td>53.8</td>\n",
       "      <td>5.7</td>\n",
       "      <td>9.1</td>\n",
       "      <td>116.9</td>\n",
       "      <td>571</td>\n",
       "      <td>1</td>\n",
       "      <td>2</td>\n",
       "      <td>441</td>\n",
       "      <td>469</td>\n",
       "      <td>62.9</td>\n",
       "    </tr>\n",
       "    <tr>\n",
       "      <th>109</th>\n",
       "      <td>110</td>\n",
       "      <td>9.50</td>\n",
       "      <td>49.3</td>\n",
       "      <td>5.8</td>\n",
       "      <td>42.0</td>\n",
       "      <td>70.9</td>\n",
       "      <td>98</td>\n",
       "      <td>2</td>\n",
       "      <td>3</td>\n",
       "      <td>68</td>\n",
       "      <td>46</td>\n",
       "      <td>22.9</td>\n",
       "    </tr>\n",
       "    <tr>\n",
       "      <th>110</th>\n",
       "      <td>111</td>\n",
       "      <td>7.70</td>\n",
       "      <td>56.9</td>\n",
       "      <td>4.4</td>\n",
       "      <td>12.2</td>\n",
       "      <td>67.9</td>\n",
       "      <td>129</td>\n",
       "      <td>2</td>\n",
       "      <td>4</td>\n",
       "      <td>85</td>\n",
       "      <td>136</td>\n",
       "      <td>62.9</td>\n",
       "    </tr>\n",
       "    <tr>\n",
       "      <th>111</th>\n",
       "      <td>112</td>\n",
       "      <td>17.94</td>\n",
       "      <td>56.2</td>\n",
       "      <td>5.9</td>\n",
       "      <td>26.4</td>\n",
       "      <td>91.8</td>\n",
       "      <td>835</td>\n",
       "      <td>1</td>\n",
       "      <td>1</td>\n",
       "      <td>791</td>\n",
       "      <td>407</td>\n",
       "      <td>62.9</td>\n",
       "    </tr>\n",
       "    <tr>\n",
       "      <th>112</th>\n",
       "      <td>113</td>\n",
       "      <td>9.41</td>\n",
       "      <td>59.5</td>\n",
       "      <td>3.1</td>\n",
       "      <td>20.6</td>\n",
       "      <td>91.7</td>\n",
       "      <td>29</td>\n",
       "      <td>2</td>\n",
       "      <td>3</td>\n",
       "      <td>20</td>\n",
       "      <td>22</td>\n",
       "      <td>22.9</td>\n",
       "    </tr>\n",
       "  </tbody>\n",
       "</table>\n",
       "<p>113 rows × 12 columns</p>\n",
       "</div>"
      ],
      "text/plain": [
       "      ID   Stay   Age  Risk  Cult   Xray  Beds  MS  Reg  Cen  Nurses   AFS\n",
       "0      1   7.13  55.7   4.1   9.0   39.6   279   2    4  207     241  60.0\n",
       "1      2   8.82  58.2   1.6   3.8   51.7    80   2    2   51      52  40.0\n",
       "2      3   8.34  56.9   2.7   8.1   74.0   107   2    3   82      54  20.0\n",
       "3      4   8.95  53.7   5.6  18.9  122.8   147   2    4   53     148  40.0\n",
       "4      5  11.20  56.5   5.7  34.5   88.9   180   2    1  134     151  40.0\n",
       "..   ...    ...   ...   ...   ...    ...   ...  ..  ...  ...     ...   ...\n",
       "108  109  11.80  53.8   5.7   9.1  116.9   571   1    2  441     469  62.9\n",
       "109  110   9.50  49.3   5.8  42.0   70.9    98   2    3   68      46  22.9\n",
       "110  111   7.70  56.9   4.4  12.2   67.9   129   2    4   85     136  62.9\n",
       "111  112  17.94  56.2   5.9  26.4   91.8   835   1    1  791     407  62.9\n",
       "112  113   9.41  59.5   3.1  20.6   91.7    29   2    3   20      22  22.9\n",
       "\n",
       "[113 rows x 12 columns]"
      ]
     },
     "execution_count": 116,
     "metadata": {},
     "output_type": "execute_result"
    }
   ],
   "source": [
    "#Q1\n",
    "df=pd.read_csv(r'C:\\Users\\Chenyi\\Desktop\\LR\\hw1\\SENIC.txt',delim_whitespace = True)\n",
    "df"
   ]
  },
  {
   "cell_type": "code",
   "execution_count": 117,
   "id": "082c59f8",
   "metadata": {},
   "outputs": [
    {
     "data": {
      "image/png": "[encoded data removed]",
      "text/plain": [
       "<Figure size 432x288 with 1 Axes>"
      ]
     },
     "metadata": {
      "needs_background": "light"
     },
     "output_type": "display_data"
    }
   ],
   "source": [
    "#Q1(a)\n",
    "sns.scatterplot(x='AFS', y='Nurses',data=df)\n",
    "\n",
    "lowess = sm.nonparametric.lowess\n",
    "y=df['Nurses'].values\n",
    "x=df['AFS'].values\n",
    "y_smooth = lowess(y, x, frac=1/3)[:,1]#The second column of the return is the smoothed data\n",
    "plt.plot(np.sort(x),y_smooth)\n",
    "plt.legend('lowess smoother')\n",
    "    \n",
    "plt.show()"
   ]
  },
  {
   "cell_type": "code",
   "execution_count": 118,
   "id": "1020ffb1",
   "metadata": {},
   "outputs": [
    {
     "data": {
      "image/png": "[encoded data removed]",
      "text/plain": [
       "<Figure size 432x288 with 1 Axes>"
      ]
     },
     "metadata": {
      "needs_background": "light"
     },
     "output_type": "display_data"
    }
   ],
   "source": [
    "#Q1(b)\n",
    "X = np.column_stack((x, x ** 2))\n",
    "X = sm.add_constant(X)\n",
    "model = sm.OLS(y, X).fit()\n",
    "parameters=model.params\n",
    "\n",
    "sns.scatterplot(x='AFS', y='Nurses',data=df)\n",
    "lowess = sm.nonparametric.lowess\n",
    "y=df['Nurses'].values\n",
    "x=df['AFS'].values\n",
    "y_smooth = lowess(y, x, frac=1/3)[:,1]#The second column of the return is the smoothed data\n",
    "p1,=plt.plot(np.sort(x),y_smooth)\n",
    "#plot the fitted line\n",
    "x_plot=np.linspace(10,80)\n",
    "y_plot=model.params[0]+x_plot*model.params[1]+x_plot**2*model.params[2]\n",
    "plt.plot(x_plot,y_plot) \n",
    "plt.legend([\"Lowess smoother\", \"OLS Fitted Line\"])\n",
    "plt.show()\n"
   ]
  },
  {
   "cell_type": "code",
   "execution_count": 119,
   "id": "9b3463d3",
   "metadata": {},
   "outputs": [
    {
     "name": "stdout",
     "output_type": "stream",
     "text": [
      "                            OLS Regression Results                            \n",
      "==============================================================================\n",
      "Dep. Variable:                      y   R-squared:                       0.657\n",
      "Model:                            OLS   Adj. R-squared:                  0.651\n",
      "Method:                 Least Squares   F-statistic:                     105.3\n",
      "Date:                Fri, 28 Oct 2022   Prob (F-statistic):           2.79e-26\n",
      "Time:                        22:48:12   Log-Likelihood:                -657.20\n",
      "No. Observations:                 113   AIC:                             1320.\n",
      "Df Residuals:                     110   BIC:                             1329.\n",
      "Df Model:                           2                                         \n",
      "Covariance Type:            nonrobust                                         \n",
      "==============================================================================\n",
      "                 coef    std err          t      P>|t|      [0.025      0.975]\n",
      "------------------------------------------------------------------------------\n",
      "const         33.5482     51.414      0.653      0.515     -68.343     135.439\n",
      "x1            -1.6661      2.435     -0.684      0.495      -6.491       3.159\n",
      "x2             0.1012      0.027      3.716      0.000       0.047       0.155\n",
      "==============================================================================\n",
      "Omnibus:                       17.985   Durbin-Watson:                   1.822\n",
      "Prob(Omnibus):                  0.000   Jarque-Bera (JB):               41.675\n",
      "Skew:                           0.564   Prob(JB):                     8.92e-10\n",
      "Kurtosis:                       5.753   Cond. No.                     1.66e+04\n",
      "==============================================================================\n",
      "\n",
      "Notes:\n",
      "[1] Standard Errors assume that the covariance matrix of the errors is correctly specified.\n",
      "[2] The condition number is large, 1.66e+04. This might indicate that there are\n",
      "strong multicollinearity or other numerical problems.\n"
     ]
    }
   ],
   "source": [
    "#Q1(c)\n",
    "print(model.summary())"
   ]
  },
  {
   "cell_type": "code",
   "execution_count": 120,
   "id": "d59ffda9",
   "metadata": {},
   "outputs": [
    {
     "name": "stdout",
     "output_type": "stream",
     "text": [
      "        mean    mean_se  mean_ci_lower  mean_ci_upper  obs_ci_lower  \\\n",
      "0  74.611556  10.322102      54.155572       95.06754    -89.780914   \n",
      "\n",
      "   obs_ci_upper  \n",
      "0    239.004025  \n",
      "         mean    mean_se  mean_ci_lower  mean_ci_upper  obs_ci_lower  \\\n",
      "0  297.769429  11.625446     274.730523     320.808334    133.035619   \n",
      "\n",
      "   obs_ci_upper  \n",
      "0    462.503238  \n"
     ]
    }
   ],
   "source": [
    "#Q1(d)\n",
    "point1=model.get_prediction([1,30,30**2])\n",
    "point2=model.get_prediction([1,60,60**2])\n",
    "print(point1.summary_frame())\n",
    "print(point2.summary_frame())"
   ]
  },
  {
   "cell_type": "code",
   "execution_count": 121,
   "id": "17f441b8",
   "metadata": {},
   "outputs": [
    {
     "data": {
      "image/png": "[encoded data removed]",
      "text/plain": [
       "<Figure size 432x288 with 1 Axes>"
      ]
     },
     "metadata": {
      "needs_background": "light"
     },
     "output_type": "display_data"
    },
    {
     "data": {
      "image/png": "[encoded data removed]",
      "text/plain": [
       "<Figure size 432x288 with 1 Axes>"
      ]
     },
     "metadata": {
      "needs_background": "light"
     },
     "output_type": "display_data"
    },
    {
     "data": {
      "text/plain": [
       "Text(0.5, 1.0, 'normalprobability plot of residuals')"
      ]
     },
     "execution_count": 121,
     "metadata": {},
     "output_type": "execute_result"
    },
    {
     "data": {
      "image/png": "[encoded data removed]",
      "text/plain": [
       "<Figure size 432x288 with 1 Axes>"
      ]
     },
     "metadata": {
      "needs_background": "light"
     },
     "output_type": "display_data"
    }
   ],
   "source": [
    "#Q1(e)\n",
    "#(i) versus y_hat\n",
    "y_hat=model.predict()\n",
    "res=model.resid\n",
    "sns.scatterplot(x=y_hat,y=res)\n",
    "plt.xlabel('predicted y')\n",
    "plt.ylabel('residual')\n",
    "plt.show()\n",
    "#(ii)versus_x\n",
    "sns.scatterplot(x=x,y=res)\n",
    "plt.xlabel('x')\n",
    "plt.ylabel('residual')\n",
    "plt.show()\n",
    "#(iii) pp-plot\n",
    "pplot = sm.ProbPlot(res, dist = st.norm, fit=True)\n",
    "pplot.ppplot(line=\"45\")\n",
    "plt.title(\"normalprobability plot of residuals\")\n",
    "#\n"
   ]
  },
  {
   "cell_type": "code",
   "execution_count": 122,
   "id": "f712cfab",
   "metadata": {},
   "outputs": [
    {
     "data": {
      "application/vnd.plotly.v1+json": {
       "config": {
        "plotlyServerURL": "https://plot.ly"
       },
       "data": [
        {
         "dimensions": [
          {
           "axis": {
            "matches": true
           },
           "label": "Stay",
           "values": [
            7.13,
            8.82,
            8.34,
            8.95,
            11.2,
            9.76,
            9.68,
            11.18,
            8.67,
            8.84,
            11.07,
            8.3,
            12.78,
            7.58,
            9,
            11.08,
            8.28,
            11.62,
            9.06,
            9.35,
            7.53,
            10.24,
            9.78,
            9.84,
            9.2,
            8.28,
            9.31,
            8.19,
            11.65,
            9.89,
            11.03,
            9.84,
            11.77,
            13.59,
            9.74,
            10.33,
            9.97,
            7.84,
            10.47,
            8.16,
            8.48,
            10.72,
            11.2,
            10.12,
            8.37,
            10.16,
            19.56,
            10.9,
            7.67,
            8.88,
            11.48,
            9.23,
            11.41,
            12.07,
            8.63,
            11.15,
            7.14,
            7.65,
            10.73,
            11.46,
            10.42,
            11.18,
            7.93,
            9.66,
            7.78,
            9.42,
            10.02,
            8.58,
            9.61,
            8.03,
            7.39,
            7.08,
            9.53,
            10.05,
            8.45,
            6.7,
            8.9,
            10.23,
            8.88,
            10.3,
            10.79,
            7.94,
            7.63,
            8.77,
            8.09,
            9.05,
            7.91,
            10.39,
            9.36,
            11.41,
            8.86,
            8.93,
            8.92,
            8.15,
            9.77,
            8.54,
            8.66,
            12.01,
            7.95,
            10.15,
            9.76,
            9.89,
            7.14,
            13.95,
            9.44,
            10.8,
            7.14,
            8.02,
            11.8,
            9.5,
            7.7,
            17.94,
            9.41
           ]
          },
          {
           "axis": {
            "matches": true
           },
           "label": "Age",
           "values": [
            55.7,
            58.2,
            56.9,
            53.7,
            56.5,
            50.9,
            57.8,
            45.7,
            48.2,
            56.3,
            53.2,
            57.2,
            56.8,
            56.7,
            56.3,
            50.2,
            48.1,
            53.9,
            52.8,
            53.8,
            42,
            49,
            52.3,
            62.2,
            52.2,
            49.5,
            47.2,
            52.1,
            54.5,
            50.5,
            49.9,
            53,
            54.1,
            54,
            54.4,
            55.8,
            58.2,
            49.1,
            53.2,
            60.9,
            51.1,
            53.8,
            45,
            51.7,
            50.7,
            54.2,
            59.9,
            57.2,
            51.7,
            51.5,
            57.6,
            51.6,
            61.1,
            43.7,
            54,
            56.5,
            59,
            47.1,
            50.6,
            56.9,
            58,
            51,
            64.1,
            52.1,
            45.5,
            50.6,
            49.5,
            55,
            52.4,
            54.2,
            51,
            52,
            51.5,
            52,
            38.8,
            48.6,
            49.7,
            53.2,
            55.8,
            59.6,
            44.2,
            49.5,
            52.1,
            54.5,
            56.9,
            51.2,
            52.8,
            54.6,
            54.1,
            50.4,
            51.3,
            56,
            53.9,
            54.9,
            50.2,
            56.1,
            52.8,
            52.8,
            51.8,
            51.9,
            53.2,
            45.2,
            57.6,
            65.9,
            52.5,
            63.9,
            51.7,
            55,
            53.8,
            49.3,
            56.9,
            56.2,
            59.5
           ]
          },
          {
           "axis": {
            "matches": true
           },
           "label": "Cult",
           "values": [
            9,
            3.8,
            8.1,
            18.9,
            34.5,
            21.9,
            16.7,
            60.5,
            24.4,
            29.6,
            28.5,
            6.8,
            46,
            20.8,
            14.6,
            18.6,
            26,
            25.5,
            6.9,
            15.9,
            23.1,
            36.3,
            17.6,
            12,
            17.5,
            12,
            30.2,
            10.8,
            18.6,
            17.7,
            19.7,
            17.7,
            17.3,
            24.2,
            11.4,
            21.2,
            16.5,
            7.1,
            5.7,
            1.9,
            12.1,
            23.2,
            7,
            14.9,
            15.1,
            8.4,
            17.2,
            10.6,
            2.5,
            10.1,
            20.3,
            11.6,
            16.6,
            52.4,
            8.4,
            7.7,
            2.6,
            16.4,
            19.3,
            15.6,
            8,
            18.8,
            7.5,
            9.9,
            20.9,
            24.8,
            8.3,
            7.4,
            6.9,
            24.3,
            14.6,
            12.3,
            15,
            36.7,
            12.9,
            13,
            12.7,
            9.9,
            14.1,
            27.8,
            2.6,
            6.2,
            11.6,
            5.2,
            7.6,
            20.5,
            11.9,
            14,
            18.3,
            23.8,
            9.5,
            6.2,
            2.2,
            12.3,
            15.7,
            27,
            6.8,
            10.8,
            4.6,
            16.4,
            6.9,
            11.8,
            13.1,
            15.6,
            10.9,
            1.6,
            4.1,
            3.8,
            9.1,
            42,
            12.2,
            26.4,
            20.6
           ]
          },
          {
           "axis": {
            "matches": true
           },
           "label": "Cen",
           "values": [
            207,
            51,
            82,
            53,
            134,
            147,
            151,
            399,
            130,
            59,
            591,
            105,
            252,
            59,
            61,
            326,
            84,
            113,
            103,
            547,
            47,
            163,
            240,
            468,
            244,
            413,
            124,
            156,
            217,
            113,
            270,
            200,
            164,
            258,
            170,
            181,
            69,
            50,
            168,
            49,
            145,
            90,
            95,
            313,
            96,
            581,
            273,
            446,
            93,
            238,
            207,
            413,
            330,
            115,
            39,
            217,
            37,
            265,
            374,
            153,
            67,
            546,
            42,
            66,
            391,
            421,
            191,
            248,
            404,
            65,
            38,
            52,
            241,
            144,
            143,
            51,
            37,
            595,
            165,
            113,
            320,
            139,
            109,
            85,
            61,
            127,
            349,
            223,
            127,
            359,
            65,
            59,
            40,
            55,
            123,
            57,
            178,
            237,
            128,
            452,
            47,
            141,
            40,
            308,
            230,
            69,
            90,
            44,
            441,
            68,
            85,
            791,
            20
           ]
          },
          {
           "axis": {
            "matches": true
           },
           "label": "AFS",
           "values": [
            60,
            40,
            20,
            40,
            40,
            40,
            40,
            60,
            40,
            40,
            80,
            40,
            57.1,
            37.1,
            17.1,
            57.1,
            37.1,
            37.1,
            37.1,
            77.1,
            17.1,
            37.1,
            57.1,
            57.1,
            57.1,
            57.1,
            37.1,
            37.1,
            37.1,
            37.1,
            57.1,
            54.3,
            34.3,
            54.3,
            54.3,
            54.3,
            34.3,
            34.3,
            54.3,
            14.3,
            34.3,
            34.3,
            34.3,
            54.3,
            34.3,
            74.3,
            51.4,
            51.4,
            11.4,
            51.4,
            51.4,
            71.4,
            51.4,
            31.4,
            31.4,
            51.4,
            31.4,
            51.4,
            51.4,
            31.4,
            31.4,
            68.6,
            28.6,
            28.6,
            48.6,
            48.6,
            48.6,
            48.6,
            48.6,
            28.6,
            28.6,
            28.6,
            48.6,
            68.6,
            48.6,
            28.6,
            28.6,
            68.6,
            48.6,
            45.7,
            65.7,
            45.7,
            45.7,
            25.7,
            45.7,
            45.7,
            65.7,
            65.7,
            45.7,
            45.7,
            25.7,
            25.7,
            5.7,
            25.7,
            25.7,
            45.7,
            45.7,
            45.7,
            42.9,
            62.9,
            22.9,
            42.9,
            22.9,
            62.9,
            42.9,
            22.9,
            22.9,
            22.9,
            62.9,
            22.9,
            62.9,
            62.9,
            22.9
           ]
          }
         ],
         "hovertemplate": "%{xaxis.title.text}=%{x}<br>%{yaxis.title.text}=%{y}<extra></extra>",
         "legendgroup": "",
         "marker": {
          "color": "#636efa",
          "symbol": "circle"
         },
         "name": "",
         "showlegend": false,
         "type": "splom"
        }
       ],
       "layout": {
        "dragmode": "select",
        "legend": {
         "tracegroupgap": 0
        },
        "margin": {
         "t": 60
        },
        "template": {
         "data": {
          "bar": [
           {
            "error_x": {
             "color": "#2a3f5f"
            },
            "error_y": {
             "color": "#2a3f5f"
            },
            "marker": {
             "line": {
              "color": "#E5ECF6",
              "width": 0.5
             },
             "pattern": {
              "fillmode": "overlay",
              "size": 10,
              "solidity": 0.2
             }
            },
            "type": "bar"
           }
          ],
          "barpolar": [
           {
            "marker": {
             "line": {
              "color": "#E5ECF6",
              "width": 0.5
             },
             "pattern": {
              "fillmode": "overlay",
              "size": 10,
              "solidity": 0.2
             }
            },
            "type": "barpolar"
           }
          ],
          "carpet": [
           {
            "aaxis": {
             "endlinecolor": "#2a3f5f",
             "gridcolor": "white",
             "linecolor": "white",
             "minorgridcolor": "white",
             "startlinecolor": "#2a3f5f"
            },
            "baxis": {
             "endlinecolor": "#2a3f5f",
             "gridcolor": "white",
             "linecolor": "white",
             "minorgridcolor": "white",
             "startlinecolor": "#2a3f5f"
            },
            "type": "carpet"
           }
          ],
          "choropleth": [
           {
            "colorbar": {
             "outlinewidth": 0,
             "ticks": ""
            },
            "type": "choropleth"
           }
          ],
          "contour": [
           {
            "colorbar": {
             "outlinewidth": 0,
             "ticks": ""
            },
            "colorscale": [
             [
              0,
              "#0d0887"
             ],
             [
              0.1111111111111111,
              "#46039f"
             ],
             [
              0.2222222222222222,
              "#7201a8"
             ],
             [
              0.3333333333333333,
              "#9c179e"
             ],
             [
              0.4444444444444444,
              "#bd3786"
             ],
             [
              0.5555555555555556,
              "#d8576b"
             ],
             [
              0.6666666666666666,
              "#ed7953"
             ],
             [
              0.7777777777777778,
              "#fb9f3a"
             ],
             [
              0.8888888888888888,
              "#fdca26"
             ],
             [
              1,
              "#f0f921"
             ]
            ],
            "type": "contour"
           }
          ],
          "contourcarpet": [
           {
            "colorbar": {
             "outlinewidth": 0,
             "ticks": ""
            },
            "type": "contourcarpet"
           }
          ],
          "heatmap": [
           {
            "colorbar": {
             "outlinewidth": 0,
             "ticks": ""
            },
            "colorscale": [
             [
              0,
              "#0d0887"
             ],
             [
              0.1111111111111111,
              "#46039f"
             ],
             [
              0.2222222222222222,
              "#7201a8"
             ],
             [
              0.3333333333333333,
              "#9c179e"
             ],
             [
              0.4444444444444444,
              "#bd3786"
             ],
             [
              0.5555555555555556,
              "#d8576b"
             ],
             [
              0.6666666666666666,
              "#ed7953"
             ],
             [
              0.7777777777777778,
              "#fb9f3a"
             ],
             [
              0.8888888888888888,
              "#fdca26"
             ],
             [
              1,
              "#f0f921"
             ]
            ],
            "type": "heatmap"
           }
          ],
          "heatmapgl": [
           {
            "colorbar": {
             "outlinewidth": 0,
             "ticks": ""
            },
            "colorscale": [
             [
              0,
              "#0d0887"
             ],
             [
              0.1111111111111111,
              "#46039f"
             ],
             [
              0.2222222222222222,
              "#7201a8"
             ],
             [
              0.3333333333333333,
              "#9c179e"
             ],
             [
              0.4444444444444444,
              "#bd3786"
             ],
             [
              0.5555555555555556,
              "#d8576b"
             ],
             [
              0.6666666666666666,
              "#ed7953"
             ],
             [
              0.7777777777777778,
              "#fb9f3a"
             ],
             [
              0.8888888888888888,
              "#fdca26"
             ],
             [
              1,
              "#f0f921"
             ]
            ],
            "type": "heatmapgl"
           }
          ],
          "histogram": [
           {
            "marker": {
             "pattern": {
              "fillmode": "overlay",
              "size": 10,
              "solidity": 0.2
             }
            },
            "type": "histogram"
           }
          ],
          "histogram2d": [
           {
            "colorbar": {
             "outlinewidth": 0,
             "ticks": ""
            },
            "colorscale": [
             [
              0,
              "#0d0887"
             ],
             [
              0.1111111111111111,
              "#46039f"
             ],
             [
              0.2222222222222222,
              "#7201a8"
             ],
             [
              0.3333333333333333,
              "#9c179e"
             ],
             [
              0.4444444444444444,
              "#bd3786"
             ],
             [
              0.5555555555555556,
              "#d8576b"
             ],
             [
              0.6666666666666666,
              "#ed7953"
             ],
             [
              0.7777777777777778,
              "#fb9f3a"
             ],
             [
              0.8888888888888888,
              "#fdca26"
             ],
             [
              1,
              "#f0f921"
             ]
            ],
            "type": "histogram2d"
           }
          ],
          "histogram2dcontour": [
           {
            "colorbar": {
             "outlinewidth": 0,
             "ticks": ""
            },
            "colorscale": [
             [
              0,
              "#0d0887"
             ],
             [
              0.1111111111111111,
              "#46039f"
             ],
             [
              0.2222222222222222,
              "#7201a8"
             ],
             [
              0.3333333333333333,
              "#9c179e"
             ],
             [
              0.4444444444444444,
              "#bd3786"
             ],
             [
              0.5555555555555556,
              "#d8576b"
             ],
             [
              0.6666666666666666,
              "#ed7953"
             ],
             [
              0.7777777777777778,
              "#fb9f3a"
             ],
             [
              0.8888888888888888,
              "#fdca26"
             ],
             [
              1,
              "#f0f921"
             ]
            ],
            "type": "histogram2dcontour"
           }
          ],
          "mesh3d": [
           {
            "colorbar": {
             "outlinewidth": 0,
             "ticks": ""
            },
            "type": "mesh3d"
           }
          ],
          "parcoords": [
           {
            "line": {
             "colorbar": {
              "outlinewidth": 0,
              "ticks": ""
             }
            },
            "type": "parcoords"
           }
          ],
          "pie": [
           {
            "automargin": true,
            "type": "pie"
           }
          ],
          "scatter": [
           {
            "fillpattern": {
             "fillmode": "overlay",
             "size": 10,
             "solidity": 0.2
            },
            "type": "scatter"
           }
          ],
          "scatter3d": [
           {
            "line": {
             "colorbar": {
              "outlinewidth": 0,
              "ticks": ""
             }
            },
            "marker": {
             "colorbar": {
              "outlinewidth": 0,
              "ticks": ""
             }
            },
            "type": "scatter3d"
           }
          ],
          "scattercarpet": [
           {
            "marker": {
             "colorbar": {
              "outlinewidth": 0,
              "ticks": ""
             }
            },
            "type": "scattercarpet"
           }
          ],
          "scattergeo": [
           {
            "marker": {
             "colorbar": {
              "outlinewidth": 0,
              "ticks": ""
             }
            },
            "type": "scattergeo"
           }
          ],
          "scattergl": [
           {
            "marker": {
             "colorbar": {
              "outlinewidth": 0,
              "ticks": ""
             }
            },
            "type": "scattergl"
           }
          ],
          "scattermapbox": [
           {
            "marker": {
             "colorbar": {
              "outlinewidth": 0,
              "ticks": ""
             }
            },
            "type": "scattermapbox"
           }
          ],
          "scatterpolar": [
           {
            "marker": {
             "colorbar": {
              "outlinewidth": 0,
              "ticks": ""
             }
            },
            "type": "scatterpolar"
           }
          ],
          "scatterpolargl": [
           {
            "marker": {
             "colorbar": {
              "outlinewidth": 0,
              "ticks": ""
             }
            },
            "type": "scatterpolargl"
           }
          ],
          "scatterternary": [
           {
            "marker": {
             "colorbar": {
              "outlinewidth": 0,
              "ticks": ""
             }
            },
            "type": "scatterternary"
           }
          ],
          "surface": [
           {
            "colorbar": {
             "outlinewidth": 0,
             "ticks": ""
            },
            "colorscale": [
             [
              0,
              "#0d0887"
             ],
             [
              0.1111111111111111,
              "#46039f"
             ],
             [
              0.2222222222222222,
              "#7201a8"
             ],
             [
              0.3333333333333333,
              "#9c179e"
             ],
             [
              0.4444444444444444,
              "#bd3786"
             ],
             [
              0.5555555555555556,
              "#d8576b"
             ],
             [
              0.6666666666666666,
              "#ed7953"
             ],
             [
              0.7777777777777778,
              "#fb9f3a"
             ],
             [
              0.8888888888888888,
              "#fdca26"
             ],
             [
              1,
              "#f0f921"
             ]
            ],
            "type": "surface"
           }
          ],
          "table": [
           {
            "cells": {
             "fill": {
              "color": "#EBF0F8"
             },
             "line": {
              "color": "white"
             }
            },
            "header": {
             "fill": {
              "color": "#C8D4E3"
             },
             "line": {
              "color": "white"
             }
            },
            "type": "table"
           }
          ]
         },
         "layout": {
          "annotationdefaults": {
           "arrowcolor": "#2a3f5f",
           "arrowhead": 0,
           "arrowwidth": 1
          },
          "autotypenumbers": "strict",
          "coloraxis": {
           "colorbar": {
            "outlinewidth": 0,
            "ticks": ""
           }
          },
          "colorscale": {
           "diverging": [
            [
             0,
             "#8e0152"
            ],
            [
             0.1,
             "#c51b7d"
            ],
            [
             0.2,
             "#de77ae"
            ],
            [
             0.3,
             "#f1b6da"
            ],
            [
             0.4,
             "#fde0ef"
            ],
            [
             0.5,
             "#f7f7f7"
            ],
            [
             0.6,
             "#e6f5d0"
            ],
            [
             0.7,
             "#b8e186"
            ],
            [
             0.8,
             "#7fbc41"
            ],
            [
             0.9,
             "#4d9221"
            ],
            [
             1,
             "#276419"
            ]
           ],
           "sequential": [
            [
             0,
             "#0d0887"
            ],
            [
             0.1111111111111111,
             "#46039f"
            ],
            [
             0.2222222222222222,
             "#7201a8"
            ],
            [
             0.3333333333333333,
             "#9c179e"
            ],
            [
             0.4444444444444444,
             "#bd3786"
            ],
            [
             0.5555555555555556,
             "#d8576b"
            ],
            [
             0.6666666666666666,
             "#ed7953"
            ],
            [
             0.7777777777777778,
             "#fb9f3a"
            ],
            [
             0.8888888888888888,
             "#fdca26"
            ],
            [
             1,
             "#f0f921"
            ]
           ],
           "sequentialminus": [
            [
             0,
             "#0d0887"
            ],
            [
             0.1111111111111111,
             "#46039f"
            ],
            [
             0.2222222222222222,
             "#7201a8"
            ],
            [
             0.3333333333333333,
             "#9c179e"
            ],
            [
             0.4444444444444444,
             "#bd3786"
            ],
            [
             0.5555555555555556,
             "#d8576b"
            ],
            [
             0.6666666666666666,
             "#ed7953"
            ],
            [
             0.7777777777777778,
             "#fb9f3a"
            ],
            [
             0.8888888888888888,
             "#fdca26"
            ],
            [
             1,
             "#f0f921"
            ]
           ]
          },
          "colorway": [
           "#636efa",
           "#EF553B",
           "#00cc96",
           "#ab63fa",
           "#FFA15A",
           "#19d3f3",
           "#FF6692",
           "#B6E880",
           "#FF97FF",
           "#FECB52"
          ],
          "font": {
           "color": "#2a3f5f"
          },
          "geo": {
           "bgcolor": "white",
           "lakecolor": "white",
           "landcolor": "#E5ECF6",
           "showlakes": true,
           "showland": true,
           "subunitcolor": "white"
          },
          "hoverlabel": {
           "align": "left"
          },
          "hovermode": "closest",
          "mapbox": {
           "style": "light"
          },
          "paper_bgcolor": "white",
          "plot_bgcolor": "#E5ECF6",
          "polar": {
           "angularaxis": {
            "gridcolor": "white",
            "linecolor": "white",
            "ticks": ""
           },
           "bgcolor": "#E5ECF6",
           "radialaxis": {
            "gridcolor": "white",
            "linecolor": "white",
            "ticks": ""
           }
          },
          "scene": {
           "xaxis": {
            "backgroundcolor": "#E5ECF6",
            "gridcolor": "white",
            "gridwidth": 2,
            "linecolor": "white",
            "showbackground": true,
            "ticks": "",
            "zerolinecolor": "white"
           },
           "yaxis": {
            "backgroundcolor": "#E5ECF6",
            "gridcolor": "white",
            "gridwidth": 2,
            "linecolor": "white",
            "showbackground": true,
            "ticks": "",
            "zerolinecolor": "white"
           },
           "zaxis": {
            "backgroundcolor": "#E5ECF6",
            "gridcolor": "white",
            "gridwidth": 2,
            "linecolor": "white",
            "showbackground": true,
            "ticks": "",
            "zerolinecolor": "white"
           }
          },
          "shapedefaults": {
           "line": {
            "color": "#2a3f5f"
           }
          },
          "ternary": {
           "aaxis": {
            "gridcolor": "white",
            "linecolor": "white",
            "ticks": ""
           },
           "baxis": {
            "gridcolor": "white",
            "linecolor": "white",
            "ticks": ""
           },
           "bgcolor": "#E5ECF6",
           "caxis": {
            "gridcolor": "white",
            "linecolor": "white",
            "ticks": ""
           }
          },
          "title": {
           "x": 0.05
          },
          "xaxis": {
           "automargin": true,
           "gridcolor": "white",
           "linecolor": "white",
           "ticks": "",
           "title": {
            "standoff": 15
           },
           "zerolinecolor": "white",
           "zerolinewidth": 2
          },
          "yaxis": {
           "automargin": true,
           "gridcolor": "white",
           "linecolor": "white",
           "ticks": "",
           "title": {
            "standoff": 15
           },
           "zerolinecolor": "white",
           "zerolinewidth": 2
          }
         }
        }
       }
      },
      "text/html": [
       "<div>                            <div id=\"38cc62b2-94e4-4131-8d75-8dc82fd0522c\" class=\"plotly-graph-div\" style=\"height:525px; width:100%;\"></div>            <script type=\"text/javascript\">                require([\"plotly\"], function(Plotly) {                    window.PLOTLYENV=window.PLOTLYENV || {};                                    if (document.getElementById(\"38cc62b2-94e4-4131-8d75-8dc82fd0522c\")) {                    Plotly.newPlot(                        \"38cc62b2-94e4-4131-8d75-8dc82fd0522c\",                        [{\"dimensions\":[{\"axis\":{\"matches\":true},\"label\":\"Stay\",\"values\":[7.13,8.82,8.34,8.95,11.2,9.76,9.68,11.18,8.67,8.84,11.07,8.3,12.78,7.58,9.0,11.08,8.28,11.62,9.06,9.35,7.53,10.24,9.78,9.84,9.2,8.28,9.31,8.19,11.65,9.89,11.03,9.84,11.77,13.59,9.74,10.33,9.97,7.84,10.47,8.16,8.48,10.72,11.2,10.12,8.37,10.16,19.56,10.9,7.67,8.88,11.48,9.23,11.41,12.07,8.63,11.15,7.14,7.65,10.73,11.46,10.42,11.18,7.93,9.66,7.78,9.42,10.02,8.58,9.61,8.03,7.39,7.08,9.53,10.05,8.45,6.7,8.9,10.23,8.88,10.3,10.79,7.94,7.63,8.77,8.09,9.05,7.91,10.39,9.36,11.41,8.86,8.93,8.92,8.15,9.77,8.54,8.66,12.01,7.95,10.15,9.76,9.89,7.14,13.95,9.44,10.8,7.14,8.02,11.8,9.5,7.7,17.94,9.41]},{\"axis\":{\"matches\":true},\"label\":\"Age\",\"values\":[55.7,58.2,56.9,53.7,56.5,50.9,57.8,45.7,48.2,56.3,53.2,57.2,56.8,56.7,56.3,50.2,48.1,53.9,52.8,53.8,42.0,49.0,52.3,62.2,52.2,49.5,47.2,52.1,54.5,50.5,49.9,53.0,54.1,54.0,54.4,55.8,58.2,49.1,53.2,60.9,51.1,53.8,45.0,51.7,50.7,54.2,59.9,57.2,51.7,51.5,57.6,51.6,61.1,43.7,54.0,56.5,59.0,47.1,50.6,56.9,58.0,51.0,64.1,52.1,45.5,50.6,49.5,55.0,52.4,54.2,51.0,52.0,51.5,52.0,38.8,48.6,49.7,53.2,55.8,59.6,44.2,49.5,52.1,54.5,56.9,51.2,52.8,54.6,54.1,50.4,51.3,56.0,53.9,54.9,50.2,56.1,52.8,52.8,51.8,51.9,53.2,45.2,57.6,65.9,52.5,63.9,51.7,55.0,53.8,49.3,56.9,56.2,59.5]},{\"axis\":{\"matches\":true},\"label\":\"Cult\",\"values\":[9.0,3.8,8.1,18.9,34.5,21.9,16.7,60.5,24.4,29.6,28.5,6.8,46.0,20.8,14.6,18.6,26.0,25.5,6.9,15.9,23.1,36.3,17.6,12.0,17.5,12.0,30.2,10.8,18.6,17.7,19.7,17.7,17.3,24.2,11.4,21.2,16.5,7.1,5.7,1.9,12.1,23.2,7.0,14.9,15.1,8.4,17.2,10.6,2.5,10.1,20.3,11.6,16.6,52.4,8.4,7.7,2.6,16.4,19.3,15.6,8.0,18.8,7.5,9.9,20.9,24.8,8.3,7.4,6.9,24.3,14.6,12.3,15.0,36.7,12.9,13.0,12.7,9.9,14.1,27.8,2.6,6.2,11.6,5.2,7.6,20.5,11.9,14.0,18.3,23.8,9.5,6.2,2.2,12.3,15.7,27.0,6.8,10.8,4.6,16.4,6.9,11.8,13.1,15.6,10.9,1.6,4.1,3.8,9.1,42.0,12.2,26.4,20.6]},{\"axis\":{\"matches\":true},\"label\":\"Cen\",\"values\":[207,51,82,53,134,147,151,399,130,59,591,105,252,59,61,326,84,113,103,547,47,163,240,468,244,413,124,156,217,113,270,200,164,258,170,181,69,50,168,49,145,90,95,313,96,581,273,446,93,238,207,413,330,115,39,217,37,265,374,153,67,546,42,66,391,421,191,248,404,65,38,52,241,144,143,51,37,595,165,113,320,139,109,85,61,127,349,223,127,359,65,59,40,55,123,57,178,237,128,452,47,141,40,308,230,69,90,44,441,68,85,791,20]},{\"axis\":{\"matches\":true},\"label\":\"AFS\",\"values\":[60.0,40.0,20.0,40.0,40.0,40.0,40.0,60.0,40.0,40.0,80.0,40.0,57.1,37.1,17.1,57.1,37.1,37.1,37.1,77.1,17.1,37.1,57.1,57.1,57.1,57.1,37.1,37.1,37.1,37.1,57.1,54.3,34.3,54.3,54.3,54.3,34.3,34.3,54.3,14.3,34.3,34.3,34.3,54.3,34.3,74.3,51.4,51.4,11.4,51.4,51.4,71.4,51.4,31.4,31.4,51.4,31.4,51.4,51.4,31.4,31.4,68.6,28.6,28.6,48.6,48.6,48.6,48.6,48.6,28.6,28.6,28.6,48.6,68.6,48.6,28.6,28.6,68.6,48.6,45.7,65.7,45.7,45.7,25.7,45.7,45.7,65.7,65.7,45.7,45.7,25.7,25.7,5.7,25.7,25.7,45.7,45.7,45.7,42.9,62.9,22.9,42.9,22.9,62.9,42.9,22.9,22.9,22.9,62.9,22.9,62.9,62.9,22.9]}],\"hovertemplate\":\"%{xaxis.title.text}=%{x}<br>%{yaxis.title.text}=%{y}<extra></extra>\",\"legendgroup\":\"\",\"marker\":{\"color\":\"#636efa\",\"symbol\":\"circle\"},\"name\":\"\",\"showlegend\":false,\"type\":\"splom\"}],                        {\"template\":{\"data\":{\"histogram2dcontour\":[{\"type\":\"histogram2dcontour\",\"colorbar\":{\"outlinewidth\":0,\"ticks\":\"\"},\"colorscale\":[[0.0,\"#0d0887\"],[0.1111111111111111,\"#46039f\"],[0.2222222222222222,\"#7201a8\"],[0.3333333333333333,\"#9c179e\"],[0.4444444444444444,\"#bd3786\"],[0.5555555555555556,\"#d8576b\"],[0.6666666666666666,\"#ed7953\"],[0.7777777777777778,\"#fb9f3a\"],[0.8888888888888888,\"#fdca26\"],[1.0,\"#f0f921\"]]}],\"choropleth\":[{\"type\":\"choropleth\",\"colorbar\":{\"outlinewidth\":0,\"ticks\":\"\"}}],\"histogram2d\":[{\"type\":\"histogram2d\",\"colorbar\":{\"outlinewidth\":0,\"ticks\":\"\"},\"colorscale\":[[0.0,\"#0d0887\"],[0.1111111111111111,\"#46039f\"],[0.2222222222222222,\"#7201a8\"],[0.3333333333333333,\"#9c179e\"],[0.4444444444444444,\"#bd3786\"],[0.5555555555555556,\"#d8576b\"],[0.6666666666666666,\"#ed7953\"],[0.7777777777777778,\"#fb9f3a\"],[0.8888888888888888,\"#fdca26\"],[1.0,\"#f0f921\"]]}],\"heatmap\":[{\"type\":\"heatmap\",\"colorbar\":{\"outlinewidth\":0,\"ticks\":\"\"},\"colorscale\":[[0.0,\"#0d0887\"],[0.1111111111111111,\"#46039f\"],[0.2222222222222222,\"#7201a8\"],[0.3333333333333333,\"#9c179e\"],[0.4444444444444444,\"#bd3786\"],[0.5555555555555556,\"#d8576b\"],[0.6666666666666666,\"#ed7953\"],[0.7777777777777778,\"#fb9f3a\"],[0.8888888888888888,\"#fdca26\"],[1.0,\"#f0f921\"]]}],\"heatmapgl\":[{\"type\":\"heatmapgl\",\"colorbar\":{\"outlinewidth\":0,\"ticks\":\"\"},\"colorscale\":[[0.0,\"#0d0887\"],[0.1111111111111111,\"#46039f\"],[0.2222222222222222,\"#7201a8\"],[0.3333333333333333,\"#9c179e\"],[0.4444444444444444,\"#bd3786\"],[0.5555555555555556,\"#d8576b\"],[0.6666666666666666,\"#ed7953\"],[0.7777777777777778,\"#fb9f3a\"],[0.8888888888888888,\"#fdca26\"],[1.0,\"#f0f921\"]]}],\"contourcarpet\":[{\"type\":\"contourcarpet\",\"colorbar\":{\"outlinewidth\":0,\"ticks\":\"\"}}],\"contour\":[{\"type\":\"contour\",\"colorbar\":{\"outlinewidth\":0,\"ticks\":\"\"},\"colorscale\":[[0.0,\"#0d0887\"],[0.1111111111111111,\"#46039f\"],[0.2222222222222222,\"#7201a8\"],[0.3333333333333333,\"#9c179e\"],[0.4444444444444444,\"#bd3786\"],[0.5555555555555556,\"#d8576b\"],[0.6666666666666666,\"#ed7953\"],[0.7777777777777778,\"#fb9f3a\"],[0.8888888888888888,\"#fdca26\"],[1.0,\"#f0f921\"]]}],\"surface\":[{\"type\":\"surface\",\"colorbar\":{\"outlinewidth\":0,\"ticks\":\"\"},\"colorscale\":[[0.0,\"#0d0887\"],[0.1111111111111111,\"#46039f\"],[0.2222222222222222,\"#7201a8\"],[0.3333333333333333,\"#9c179e\"],[0.4444444444444444,\"#bd3786\"],[0.5555555555555556,\"#d8576b\"],[0.6666666666666666,\"#ed7953\"],[0.7777777777777778,\"#fb9f3a\"],[0.8888888888888888,\"#fdca26\"],[1.0,\"#f0f921\"]]}],\"mesh3d\":[{\"type\":\"mesh3d\",\"colorbar\":{\"outlinewidth\":0,\"ticks\":\"\"}}],\"scatter\":[{\"fillpattern\":{\"fillmode\":\"overlay\",\"size\":10,\"solidity\":0.2},\"type\":\"scatter\"}],\"parcoords\":[{\"type\":\"parcoords\",\"line\":{\"colorbar\":{\"outlinewidth\":0,\"ticks\":\"\"}}}],\"scatterpolargl\":[{\"type\":\"scatterpolargl\",\"marker\":{\"colorbar\":{\"outlinewidth\":0,\"ticks\":\"\"}}}],\"bar\":[{\"error_x\":{\"color\":\"#2a3f5f\"},\"error_y\":{\"color\":\"#2a3f5f\"},\"marker\":{\"line\":{\"color\":\"#E5ECF6\",\"width\":0.5},\"pattern\":{\"fillmode\":\"overlay\",\"size\":10,\"solidity\":0.2}},\"type\":\"bar\"}],\"scattergeo\":[{\"type\":\"scattergeo\",\"marker\":{\"colorbar\":{\"outlinewidth\":0,\"ticks\":\"\"}}}],\"scatterpolar\":[{\"type\":\"scatterpolar\",\"marker\":{\"colorbar\":{\"outlinewidth\":0,\"ticks\":\"\"}}}],\"histogram\":[{\"marker\":{\"pattern\":{\"fillmode\":\"overlay\",\"size\":10,\"solidity\":0.2}},\"type\":\"histogram\"}],\"scattergl\":[{\"type\":\"scattergl\",\"marker\":{\"colorbar\":{\"outlinewidth\":0,\"ticks\":\"\"}}}],\"scatter3d\":[{\"type\":\"scatter3d\",\"line\":{\"colorbar\":{\"outlinewidth\":0,\"ticks\":\"\"}},\"marker\":{\"colorbar\":{\"outlinewidth\":0,\"ticks\":\"\"}}}],\"scattermapbox\":[{\"type\":\"scattermapbox\",\"marker\":{\"colorbar\":{\"outlinewidth\":0,\"ticks\":\"\"}}}],\"scatterternary\":[{\"type\":\"scatterternary\",\"marker\":{\"colorbar\":{\"outlinewidth\":0,\"ticks\":\"\"}}}],\"scattercarpet\":[{\"type\":\"scattercarpet\",\"marker\":{\"colorbar\":{\"outlinewidth\":0,\"ticks\":\"\"}}}],\"carpet\":[{\"aaxis\":{\"endlinecolor\":\"#2a3f5f\",\"gridcolor\":\"white\",\"linecolor\":\"white\",\"minorgridcolor\":\"white\",\"startlinecolor\":\"#2a3f5f\"},\"baxis\":{\"endlinecolor\":\"#2a3f5f\",\"gridcolor\":\"white\",\"linecolor\":\"white\",\"minorgridcolor\":\"white\",\"startlinecolor\":\"#2a3f5f\"},\"type\":\"carpet\"}],\"table\":[{\"cells\":{\"fill\":{\"color\":\"#EBF0F8\"},\"line\":{\"color\":\"white\"}},\"header\":{\"fill\":{\"color\":\"#C8D4E3\"},\"line\":{\"color\":\"white\"}},\"type\":\"table\"}],\"barpolar\":[{\"marker\":{\"line\":{\"color\":\"#E5ECF6\",\"width\":0.5},\"pattern\":{\"fillmode\":\"overlay\",\"size\":10,\"solidity\":0.2}},\"type\":\"barpolar\"}],\"pie\":[{\"automargin\":true,\"type\":\"pie\"}]},\"layout\":{\"autotypenumbers\":\"strict\",\"colorway\":[\"#636efa\",\"#EF553B\",\"#00cc96\",\"#ab63fa\",\"#FFA15A\",\"#19d3f3\",\"#FF6692\",\"#B6E880\",\"#FF97FF\",\"#FECB52\"],\"font\":{\"color\":\"#2a3f5f\"},\"hovermode\":\"closest\",\"hoverlabel\":{\"align\":\"left\"},\"paper_bgcolor\":\"white\",\"plot_bgcolor\":\"#E5ECF6\",\"polar\":{\"bgcolor\":\"#E5ECF6\",\"angularaxis\":{\"gridcolor\":\"white\",\"linecolor\":\"white\",\"ticks\":\"\"},\"radialaxis\":{\"gridcolor\":\"white\",\"linecolor\":\"white\",\"ticks\":\"\"}},\"ternary\":{\"bgcolor\":\"#E5ECF6\",\"aaxis\":{\"gridcolor\":\"white\",\"linecolor\":\"white\",\"ticks\":\"\"},\"baxis\":{\"gridcolor\":\"white\",\"linecolor\":\"white\",\"ticks\":\"\"},\"caxis\":{\"gridcolor\":\"white\",\"linecolor\":\"white\",\"ticks\":\"\"}},\"coloraxis\":{\"colorbar\":{\"outlinewidth\":0,\"ticks\":\"\"}},\"colorscale\":{\"sequential\":[[0.0,\"#0d0887\"],[0.1111111111111111,\"#46039f\"],[0.2222222222222222,\"#7201a8\"],[0.3333333333333333,\"#9c179e\"],[0.4444444444444444,\"#bd3786\"],[0.5555555555555556,\"#d8576b\"],[0.6666666666666666,\"#ed7953\"],[0.7777777777777778,\"#fb9f3a\"],[0.8888888888888888,\"#fdca26\"],[1.0,\"#f0f921\"]],\"sequentialminus\":[[0.0,\"#0d0887\"],[0.1111111111111111,\"#46039f\"],[0.2222222222222222,\"#7201a8\"],[0.3333333333333333,\"#9c179e\"],[0.4444444444444444,\"#bd3786\"],[0.5555555555555556,\"#d8576b\"],[0.6666666666666666,\"#ed7953\"],[0.7777777777777778,\"#fb9f3a\"],[0.8888888888888888,\"#fdca26\"],[1.0,\"#f0f921\"]],\"diverging\":[[0,\"#8e0152\"],[0.1,\"#c51b7d\"],[0.2,\"#de77ae\"],[0.3,\"#f1b6da\"],[0.4,\"#fde0ef\"],[0.5,\"#f7f7f7\"],[0.6,\"#e6f5d0\"],[0.7,\"#b8e186\"],[0.8,\"#7fbc41\"],[0.9,\"#4d9221\"],[1,\"#276419\"]]},\"xaxis\":{\"gridcolor\":\"white\",\"linecolor\":\"white\",\"ticks\":\"\",\"title\":{\"standoff\":15},\"zerolinecolor\":\"white\",\"automargin\":true,\"zerolinewidth\":2},\"yaxis\":{\"gridcolor\":\"white\",\"linecolor\":\"white\",\"ticks\":\"\",\"title\":{\"standoff\":15},\"zerolinecolor\":\"white\",\"automargin\":true,\"zerolinewidth\":2},\"scene\":{\"xaxis\":{\"backgroundcolor\":\"#E5ECF6\",\"gridcolor\":\"white\",\"linecolor\":\"white\",\"showbackground\":true,\"ticks\":\"\",\"zerolinecolor\":\"white\",\"gridwidth\":2},\"yaxis\":{\"backgroundcolor\":\"#E5ECF6\",\"gridcolor\":\"white\",\"linecolor\":\"white\",\"showbackground\":true,\"ticks\":\"\",\"zerolinecolor\":\"white\",\"gridwidth\":2},\"zaxis\":{\"backgroundcolor\":\"#E5ECF6\",\"gridcolor\":\"white\",\"linecolor\":\"white\",\"showbackground\":true,\"ticks\":\"\",\"zerolinecolor\":\"white\",\"gridwidth\":2}},\"shapedefaults\":{\"line\":{\"color\":\"#2a3f5f\"}},\"annotationdefaults\":{\"arrowcolor\":\"#2a3f5f\",\"arrowhead\":0,\"arrowwidth\":1},\"geo\":{\"bgcolor\":\"white\",\"landcolor\":\"#E5ECF6\",\"subunitcolor\":\"white\",\"showland\":true,\"showlakes\":true,\"lakecolor\":\"white\"},\"title\":{\"x\":0.05},\"mapbox\":{\"style\":\"light\"}}},\"legend\":{\"tracegroupgap\":0},\"margin\":{\"t\":60},\"dragmode\":\"select\"},                        {\"responsive\": true}                    ).then(function(){\n",
       "                            \n",
       "var gd = document.getElementById('38cc62b2-94e4-4131-8d75-8dc82fd0522c');\n",
       "var x = new MutationObserver(function (mutations, observer) {{\n",
       "        var display = window.getComputedStyle(gd).display;\n",
       "        if (!display || display === 'none') {{\n",
       "            console.log([gd, 'removed!']);\n",
       "            Plotly.purge(gd);\n",
       "            observer.disconnect();\n",
       "        }}\n",
       "}});\n",
       "\n",
       "// Listen for the removal of the full notebook cells\n",
       "var notebookContainer = gd.closest('#notebook-container');\n",
       "if (notebookContainer) {{\n",
       "    x.observe(notebookContainer, {childList: true});\n",
       "}}\n",
       "\n",
       "// Listen for the clearing of the current output cell\n",
       "var outputEl = gd.closest('.output');\n",
       "if (outputEl) {{\n",
       "    x.observe(outputEl, {childList: true});\n",
       "}}\n",
       "\n",
       "                        })                };                });            </script>        </div>"
      ]
     },
     "metadata": {},
     "output_type": "display_data"
    }
   ],
   "source": [
    "#Q2\n",
    "#2(a)\n",
    "matrix = df[['Stay','Age','Cult','Cen','AFS']]\n",
    "fig = px.scatter_matrix(matrix)\n",
    "fig.show()"
   ]
  },
  {
   "cell_type": "code",
   "execution_count": 123,
   "id": "2fbdd4b6",
   "metadata": {},
   "outputs": [
    {
     "data": {
      "text/html": [
       "<table class=\"simpletable\">\n",
       "<caption>OLS Regression Results</caption>\n",
       "<tr>\n",
       "  <th>Dep. Variable:</th>            <td>y</td>        <th>  R-squared:         </th> <td>   0.498</td>\n",
       "</tr>\n",
       "<tr>\n",
       "  <th>Model:</th>                   <td>OLS</td>       <th>  Adj. R-squared:    </th> <td>   0.465</td>\n",
       "</tr>\n",
       "<tr>\n",
       "  <th>Method:</th>             <td>Least Squares</td>  <th>  F-statistic:       </th> <td>   14.89</td>\n",
       "</tr>\n",
       "<tr>\n",
       "  <th>Date:</th>             <td>Fri, 28 Oct 2022</td> <th>  Prob (F-statistic):</th> <td>2.28e-13</td>\n",
       "</tr>\n",
       "<tr>\n",
       "  <th>Time:</th>                 <td>22:48:12</td>     <th>  Log-Likelihood:    </th> <td> -194.09</td>\n",
       "</tr>\n",
       "<tr>\n",
       "  <th>No. Observations:</th>      <td>   113</td>      <th>  AIC:               </th> <td>   404.2</td>\n",
       "</tr>\n",
       "<tr>\n",
       "  <th>Df Residuals:</th>          <td>   105</td>      <th>  BIC:               </th> <td>   426.0</td>\n",
       "</tr>\n",
       "<tr>\n",
       "  <th>Df Model:</th>              <td>     7</td>      <th>                     </th>     <td> </td>   \n",
       "</tr>\n",
       "<tr>\n",
       "  <th>Covariance Type:</th>      <td>nonrobust</td>    <th>                     </th>     <td> </td>   \n",
       "</tr>\n",
       "</table>\n",
       "<table class=\"simpletable\">\n",
       "<tr>\n",
       "    <td></td>       <th>coef</th>     <th>std err</th>      <th>t</th>      <th>P>|t|</th>  <th>[0.025</th>    <th>0.975]</th>  \n",
       "</tr>\n",
       "<tr>\n",
       "  <th>const</th> <td>    4.1978</td> <td>    1.878</td> <td>    2.235</td> <td> 0.028</td> <td>    0.474</td> <td>    7.922</td>\n",
       "</tr>\n",
       "<tr>\n",
       "  <th>x1</th>    <td>    0.1037</td> <td>    0.031</td> <td>    3.296</td> <td> 0.001</td> <td>    0.041</td> <td>    0.166</td>\n",
       "</tr>\n",
       "<tr>\n",
       "  <th>x2</th>    <td>    0.0403</td> <td>    0.014</td> <td>    2.818</td> <td> 0.006</td> <td>    0.012</td> <td>    0.069</td>\n",
       "</tr>\n",
       "<tr>\n",
       "  <th>x3</th>    <td>    0.0066</td> <td>    0.001</td> <td>    4.700</td> <td> 0.000</td> <td>    0.004</td> <td>    0.009</td>\n",
       "</tr>\n",
       "<tr>\n",
       "  <th>x4</th>    <td>   -0.0208</td> <td>    0.014</td> <td>   -1.445</td> <td> 0.151</td> <td>   -0.049</td> <td>    0.008</td>\n",
       "</tr>\n",
       "<tr>\n",
       "  <th>x5</th>    <td>   -0.9597</td> <td>    0.382</td> <td>   -2.514</td> <td> 0.013</td> <td>   -1.717</td> <td>   -0.203</td>\n",
       "</tr>\n",
       "<tr>\n",
       "  <th>x6</th>    <td>   -1.5165</td> <td>    0.380</td> <td>   -3.990</td> <td> 0.000</td> <td>   -2.270</td> <td>   -0.763</td>\n",
       "</tr>\n",
       "<tr>\n",
       "  <th>x7</th>    <td>   -2.1500</td> <td>    0.462</td> <td>   -4.659</td> <td> 0.000</td> <td>   -3.065</td> <td>   -1.235</td>\n",
       "</tr>\n",
       "</table>\n",
       "<table class=\"simpletable\">\n",
       "<tr>\n",
       "  <th>Omnibus:</th>       <td>62.195</td> <th>  Durbin-Watson:     </th> <td>   1.913</td>\n",
       "</tr>\n",
       "<tr>\n",
       "  <th>Prob(Omnibus):</th> <td> 0.000</td> <th>  Jarque-Bera (JB):  </th> <td> 380.292</td>\n",
       "</tr>\n",
       "<tr>\n",
       "  <th>Skew:</th>          <td> 1.713</td> <th>  Prob(JB):          </th> <td>2.63e-83</td>\n",
       "</tr>\n",
       "<tr>\n",
       "  <th>Kurtosis:</th>      <td>11.309</td> <th>  Cond. No.          </th> <td>3.63e+03</td>\n",
       "</tr>\n",
       "</table><br/><br/>Notes:<br/>[1] Standard Errors assume that the covariance matrix of the errors is correctly specified.<br/>[2] The condition number is large, 3.63e+03. This might indicate that there are<br/>strong multicollinearity or other numerical problems."
      ],
      "text/plain": [
       "<class 'statsmodels.iolib.summary.Summary'>\n",
       "\"\"\"\n",
       "                            OLS Regression Results                            \n",
       "==============================================================================\n",
       "Dep. Variable:                      y   R-squared:                       0.498\n",
       "Model:                            OLS   Adj. R-squared:                  0.465\n",
       "Method:                 Least Squares   F-statistic:                     14.89\n",
       "Date:                Fri, 28 Oct 2022   Prob (F-statistic):           2.28e-13\n",
       "Time:                        22:48:12   Log-Likelihood:                -194.09\n",
       "No. Observations:                 113   AIC:                             404.2\n",
       "Df Residuals:                     105   BIC:                             426.0\n",
       "Df Model:                           7                                         \n",
       "Covariance Type:            nonrobust                                         \n",
       "==============================================================================\n",
       "                 coef    std err          t      P>|t|      [0.025      0.975]\n",
       "------------------------------------------------------------------------------\n",
       "const          4.1978      1.878      2.235      0.028       0.474       7.922\n",
       "x1             0.1037      0.031      3.296      0.001       0.041       0.166\n",
       "x2             0.0403      0.014      2.818      0.006       0.012       0.069\n",
       "x3             0.0066      0.001      4.700      0.000       0.004       0.009\n",
       "x4            -0.0208      0.014     -1.445      0.151      -0.049       0.008\n",
       "x5            -0.9597      0.382     -2.514      0.013      -1.717      -0.203\n",
       "x6            -1.5165      0.380     -3.990      0.000      -2.270      -0.763\n",
       "x7            -2.1500      0.462     -4.659      0.000      -3.065      -1.235\n",
       "==============================================================================\n",
       "Omnibus:                       62.195   Durbin-Watson:                   1.913\n",
       "Prob(Omnibus):                  0.000   Jarque-Bera (JB):              380.292\n",
       "Skew:                           1.713   Prob(JB):                     2.63e-83\n",
       "Kurtosis:                      11.309   Cond. No.                     3.63e+03\n",
       "==============================================================================\n",
       "\n",
       "Notes:\n",
       "[1] Standard Errors assume that the covariance matrix of the errors is correctly specified.\n",
       "[2] The condition number is large, 3.63e+03. This might indicate that there are\n",
       "strong multicollinearity or other numerical problems.\n",
       "\"\"\""
      ]
     },
     "execution_count": 123,
     "metadata": {},
     "output_type": "execute_result"
    }
   ],
   "source": [
    "#2(b)\n",
    "y=df['Stay'].values\n",
    "X_continuous = df[['Age','Cult','Cen','AFS']].values\n",
    "midwest=df['Reg'].apply(lambda x: 1 if x==2 else 0).values\n",
    "south=df['Reg'].apply(lambda x: 1 if x==3 else 0).values\n",
    "west=df['Reg'].apply(lambda x: 1 if x==4 else 0).values\n",
    "X = np.column_stack((X_continuous,midwest,south,west ))\n",
    "X = sm.add_constant(X)\n",
    "model = sm.OLS(y, X).fit()\n",
    "model.summary()"
   ]
  },
  {
   "cell_type": "code",
   "execution_count": 124,
   "id": "8c6a7d4a",
   "metadata": {},
   "outputs": [
    {
     "name": "stdout",
     "output_type": "stream",
     "text": [
      "0.0035714830667660513\n",
      "0.07702851693323395\n"
     ]
    }
   ],
   "source": [
    "#2(c)\n",
    "print(0.0403-0.014*st.t.ppf(0.995,105))\n",
    "print(0.0403+0.014*st.t.ppf(0.995,105))"
   ]
  },
  {
   "cell_type": "code",
   "execution_count": 125,
   "id": "65503958",
   "metadata": {},
   "outputs": [
    {
     "data": {
      "text/html": [
       "<div>\n",
       "<style scoped>\n",
       "    .dataframe tbody tr th:only-of-type {\n",
       "        vertical-align: middle;\n",
       "    }\n",
       "\n",
       "    .dataframe tbody tr th {\n",
       "        vertical-align: top;\n",
       "    }\n",
       "\n",
       "    .dataframe thead th {\n",
       "        text-align: right;\n",
       "    }\n",
       "</style>\n",
       "<table border=\"1\" class=\"dataframe\">\n",
       "  <thead>\n",
       "    <tr style=\"text-align: right;\">\n",
       "      <th></th>\n",
       "      <th>df_resid</th>\n",
       "      <th>ssr</th>\n",
       "      <th>df_diff</th>\n",
       "      <th>ss_diff</th>\n",
       "      <th>F</th>\n",
       "      <th>Pr(&gt;F)</th>\n",
       "    </tr>\n",
       "  </thead>\n",
       "  <tbody>\n",
       "    <tr>\n",
       "      <th>0</th>\n",
       "      <td>108.0</td>\n",
       "      <td>255.741754</td>\n",
       "      <td>0.0</td>\n",
       "      <td>NaN</td>\n",
       "      <td>NaN</td>\n",
       "      <td>NaN</td>\n",
       "    </tr>\n",
       "    <tr>\n",
       "      <th>1</th>\n",
       "      <td>105.0</td>\n",
       "      <td>205.363391</td>\n",
       "      <td>3.0</td>\n",
       "      <td>50.378363</td>\n",
       "      <td>8.585964</td>\n",
       "      <td>0.000038</td>\n",
       "    </tr>\n",
       "  </tbody>\n",
       "</table>\n",
       "</div>"
      ],
      "text/plain": [
       "   df_resid         ssr  df_diff    ss_diff         F    Pr(>F)\n",
       "0     108.0  255.741754      0.0        NaN       NaN       NaN\n",
       "1     105.0  205.363391      3.0  50.378363  8.585964  0.000038"
      ]
     },
     "execution_count": 125,
     "metadata": {},
     "output_type": "execute_result"
    }
   ],
   "source": [
    "#2(d)\n",
    "X2=sm.add_constant(X_continuous)\n",
    "model2=sm.OLS(y, X2).fit()\n",
    "anova_lm(model2, model)"
   ]
  },
  {
   "cell_type": "code",
   "execution_count": 126,
   "id": "21cae460",
   "metadata": {},
   "outputs": [],
   "source": [
    "#Q3\n",
    "data = pyreadr.read_r(r'C:\\Users\\Chenyi\\Desktop\\LR\\hw3\\teengamb.rda')\n",
    "df = pd.concat(data, ignore_index = True) \n",
    "x=df[['sex','status','income','verbal']].values\n",
    "y=df['gamble'].values\n",
    "X = sm.add_constant(x)\n",
    "model = sm.OLS(y, X).fit()\n",
    "# model.summary()"
   ]
  },
  {
   "cell_type": "code",
   "execution_count": 127,
   "id": "41d87b11",
   "metadata": {},
   "outputs": [
    {
     "data": {
      "image/png": "[encoded data removed]",
      "text/plain": [
       "<Figure size 432x288 with 1 Axes>"
      ]
     },
     "metadata": {
      "needs_background": "light"
     },
     "output_type": "display_data"
    }
   ],
   "source": [
    "#pre-diagnose\n",
    "#residuals versus y_hat\n",
    "y_hat=model.predict()\n",
    "res=model.resid\n",
    "sns.scatterplot(x=y_hat,y=res)\n",
    "plt.xlabel('predicted y')\n",
    "plt.ylabel('residual')\n",
    "plt.show()"
   ]
  },
  {
   "cell_type": "code",
   "execution_count": 128,
   "id": "8e72b662",
   "metadata": {},
   "outputs": [
    {
     "data": {
      "text/html": [
       "<table class=\"simpletable\">\n",
       "<caption>OLS Regression Results</caption>\n",
       "<tr>\n",
       "  <th>Dep. Variable:</th>            <td>y</td>        <th>  R-squared:         </th> <td>   0.565</td>\n",
       "</tr>\n",
       "<tr>\n",
       "  <th>Model:</th>                   <td>OLS</td>       <th>  Adj. R-squared:    </th> <td>   0.523</td>\n",
       "</tr>\n",
       "<tr>\n",
       "  <th>Method:</th>             <td>Least Squares</td>  <th>  F-statistic:       </th> <td>   13.61</td>\n",
       "</tr>\n",
       "<tr>\n",
       "  <th>Date:</th>             <td>Fri, 28 Oct 2022</td> <th>  Prob (F-statistic):</th> <td>3.36e-07</td>\n",
       "</tr>\n",
       "<tr>\n",
       "  <th>Time:</th>                 <td>22:48:13</td>     <th>  Log-Likelihood:    </th> <td> -98.559</td>\n",
       "</tr>\n",
       "<tr>\n",
       "  <th>No. Observations:</th>      <td>    47</td>      <th>  AIC:               </th> <td>   207.1</td>\n",
       "</tr>\n",
       "<tr>\n",
       "  <th>Df Residuals:</th>          <td>    42</td>      <th>  BIC:               </th> <td>   216.4</td>\n",
       "</tr>\n",
       "<tr>\n",
       "  <th>Df Model:</th>              <td>     4</td>      <th>                     </th>     <td> </td>   \n",
       "</tr>\n",
       "<tr>\n",
       "  <th>Covariance Type:</th>      <td>nonrobust</td>    <th>                     </th>     <td> </td>   \n",
       "</tr>\n",
       "</table>\n",
       "<table class=\"simpletable\">\n",
       "<tr>\n",
       "    <td></td>       <th>coef</th>     <th>std err</th>      <th>t</th>      <th>P>|t|</th>  <th>[0.025</th>    <th>0.975]</th>  \n",
       "</tr>\n",
       "<tr>\n",
       "  <th>const</th> <td>    2.9771</td> <td>    1.579</td> <td>    1.885</td> <td> 0.066</td> <td>   -0.210</td> <td>    6.165</td>\n",
       "</tr>\n",
       "<tr>\n",
       "  <th>x1</th>    <td>   -2.0445</td> <td>    0.754</td> <td>   -2.711</td> <td> 0.010</td> <td>   -3.566</td> <td>   -0.523</td>\n",
       "</tr>\n",
       "<tr>\n",
       "  <th>x2</th>    <td>    0.0369</td> <td>    0.026</td> <td>    1.428</td> <td> 0.161</td> <td>   -0.015</td> <td>    0.089</td>\n",
       "</tr>\n",
       "<tr>\n",
       "  <th>x3</th>    <td>    0.4794</td> <td>    0.094</td> <td>    5.090</td> <td> 0.000</td> <td>    0.289</td> <td>    0.669</td>\n",
       "</tr>\n",
       "<tr>\n",
       "  <th>x4</th>    <td>   -0.4236</td> <td>    0.200</td> <td>   -2.123</td> <td> 0.040</td> <td>   -0.826</td> <td>   -0.021</td>\n",
       "</tr>\n",
       "</table>\n",
       "<table class=\"simpletable\">\n",
       "<tr>\n",
       "  <th>Omnibus:</th>       <td> 2.275</td> <th>  Durbin-Watson:     </th> <td>   2.229</td>\n",
       "</tr>\n",
       "<tr>\n",
       "  <th>Prob(Omnibus):</th> <td> 0.321</td> <th>  Jarque-Bera (JB):  </th> <td>   1.333</td>\n",
       "</tr>\n",
       "<tr>\n",
       "  <th>Skew:</th>          <td> 0.326</td> <th>  Prob(JB):          </th> <td>   0.513</td>\n",
       "</tr>\n",
       "<tr>\n",
       "  <th>Kurtosis:</th>      <td> 3.506</td> <th>  Cond. No.          </th> <td>    264.</td>\n",
       "</tr>\n",
       "</table><br/><br/>Notes:<br/>[1] Standard Errors assume that the covariance matrix of the errors is correctly specified."
      ],
      "text/plain": [
       "<class 'statsmodels.iolib.summary.Summary'>\n",
       "\"\"\"\n",
       "                            OLS Regression Results                            \n",
       "==============================================================================\n",
       "Dep. Variable:                      y   R-squared:                       0.565\n",
       "Model:                            OLS   Adj. R-squared:                  0.523\n",
       "Method:                 Least Squares   F-statistic:                     13.61\n",
       "Date:                Fri, 28 Oct 2022   Prob (F-statistic):           3.36e-07\n",
       "Time:                        22:48:13   Log-Likelihood:                -98.559\n",
       "No. Observations:                  47   AIC:                             207.1\n",
       "Df Residuals:                      42   BIC:                             216.4\n",
       "Df Model:                           4                                         \n",
       "Covariance Type:            nonrobust                                         \n",
       "==============================================================================\n",
       "                 coef    std err          t      P>|t|      [0.025      0.975]\n",
       "------------------------------------------------------------------------------\n",
       "const          2.9771      1.579      1.885      0.066      -0.210       6.165\n",
       "x1            -2.0445      0.754     -2.711      0.010      -3.566      -0.523\n",
       "x2             0.0369      0.026      1.428      0.161      -0.015       0.089\n",
       "x3             0.4794      0.094      5.090      0.000       0.289       0.669\n",
       "x4            -0.4236      0.200     -2.123      0.040      -0.826      -0.021\n",
       "==============================================================================\n",
       "Omnibus:                        2.275   Durbin-Watson:                   2.229\n",
       "Prob(Omnibus):                  0.321   Jarque-Bera (JB):                1.333\n",
       "Skew:                           0.326   Prob(JB):                        0.513\n",
       "Kurtosis:                       3.506   Cond. No.                         264.\n",
       "==============================================================================\n",
       "\n",
       "Notes:\n",
       "[1] Standard Errors assume that the covariance matrix of the errors is correctly specified.\n",
       "\"\"\""
      ]
     },
     "execution_count": 128,
     "metadata": {},
     "output_type": "execute_result"
    }
   ],
   "source": [
    "#Transform y to get a new model\n",
    "import math\n",
    "y=df['gamble'].apply(math.sqrt).values\n",
    "model = sm.OLS(y, X).fit()\n",
    "model.summary()"
   ]
  },
  {
   "cell_type": "code",
   "execution_count": 129,
   "id": "486934f9",
   "metadata": {
    "scrolled": true
   },
   "outputs": [
    {
     "data": {
      "image/png": "[encoded data removed]",
      "text/plain": [
       "<Figure size 432x288 with 1 Axes>"
      ]
     },
     "metadata": {
      "needs_background": "light"
     },
     "output_type": "display_data"
    }
   ],
   "source": [
    "#3(a)\n",
    "#versus y_hat\n",
    "y_hat=model.predict()\n",
    "res=model.resid\n",
    "sns.scatterplot(x=y_hat,y=res)\n",
    "plt.xlabel('predicted y')\n",
    "plt.ylabel('residual')\n",
    "plt.show()"
   ]
  },
  {
   "cell_type": "code",
   "execution_count": 130,
   "id": "c8f0de61",
   "metadata": {},
   "outputs": [
    {
     "data": {
      "text/plain": [
       "Text(0.5, 1.0, 'qq-plot of residuals')"
      ]
     },
     "execution_count": 130,
     "metadata": {},
     "output_type": "execute_result"
    },
    {
     "data": {
      "image/png": "[encoded data removed]",
      "text/plain": [
       "<Figure size 432x288 with 1 Axes>"
      ]
     },
     "metadata": {
      "needs_background": "light"
     },
     "output_type": "display_data"
    }
   ],
   "source": [
    "#3(b)\n",
    "pplot = sm.ProbPlot(res, dist = st.norm, fit=True)\n",
    "pplot.qqplot(line=\"45\")\n",
    "plt.title(\"qq-plot of residuals\")"
   ]
  },
  {
   "cell_type": "code",
   "execution_count": 131,
   "id": "23b23346",
   "metadata": {},
   "outputs": [
    {
     "name": "stdout",
     "output_type": "stream",
     "text": [
      "Rule of thumb threshold:\n",
      "0.2553191489361702\n"
     ]
    },
    {
     "data": {
      "image/png": "[encoded data removed]",
      "text/plain": [
       "<Figure size 432x288 with 1 Axes>"
      ]
     },
     "metadata": {
      "needs_background": "light"
     },
     "output_type": "display_data"
    }
   ],
   "source": [
    "#3(ce)\n",
    "fig = sm.graphics.influence_plot(model, criterion=\"cooks\")\n",
    "fig.tight_layout()\n",
    "print('Rule of thumb threshold:')\n",
    "print(2*(5+1)/47)"
   ]
  },
  {
   "cell_type": "code",
   "execution_count": 132,
   "id": "d6428ad3",
   "metadata": {},
   "outputs": [
    {
     "data": {
      "image/png": "[encoded data removed]",
      "text/plain": [
       "<Figure size 432x288 with 1 Axes>"
      ]
     },
     "metadata": {
      "needs_background": "light"
     },
     "output_type": "display_data"
    },
    {
     "name": "stdout",
     "output_type": "stream",
     "text": [
      "[[-0.18956871  0.8505825   1.        ]\n",
      " [ 0.11307761  0.91052089  1.        ]\n",
      " [-0.35044101  0.72780187  1.        ]\n",
      " [-0.46397233  0.64512167  1.        ]\n",
      " [ 1.87784086  0.06752846  1.        ]\n",
      " [-1.04420714  0.30250739  1.        ]\n",
      " [-0.21257332  0.83271314  1.        ]\n",
      " [-0.15690392  0.87609069  1.        ]\n",
      " [ 0.18117811  0.85712048  1.        ]\n",
      " [-0.60083195  0.55125924  1.        ]\n",
      " [-0.08835878  0.9300217   1.        ]\n",
      " [ 0.0343892   0.97273368  1.        ]\n",
      " [-0.15228399  0.87970989  1.        ]\n",
      " [ 0.75137958  0.45671574  1.        ]\n",
      " [ 0.15572566  0.87701347  1.        ]\n",
      " [ 1.09521097  0.27981636  1.        ]\n",
      " [-1.47647753  0.14745574  1.        ]\n",
      " [-0.69844596  0.48884125  1.        ]\n",
      " [ 1.20859171  0.23374413  1.        ]\n",
      " [-1.38297415  0.17415867  1.        ]\n",
      " [-1.14288024  0.25971828  1.        ]\n",
      " [-0.50602576  0.61554872  1.        ]\n",
      " [-1.95322065  0.05764117  1.        ]\n",
      " [ 3.03700499  0.00414277  0.19471018]\n",
      " [ 0.22964684  0.81950805  1.        ]\n",
      " [-0.34428425  0.73239219  1.        ]\n",
      " [-0.99625959  0.32496773  1.        ]\n",
      " [-0.29391997  0.7703019   1.        ]\n",
      " [-0.69792537  0.48916336  1.        ]\n",
      " [-0.6918291   0.49294409  1.        ]\n",
      " [ 0.45486029  0.65160917  1.        ]\n",
      " [ 1.4503939   0.1545565   1.        ]\n",
      " [ 0.47564014  0.63685532  1.        ]\n",
      " [-0.29443143  0.76991387  1.        ]\n",
      " [-0.31479947  0.75451045  1.        ]\n",
      " [ 2.24970465  0.02989965  1.        ]\n",
      " [ 1.19612218  0.23852058  1.        ]\n",
      " [ 1.1457994   0.25852205  1.        ]\n",
      " [-2.48694859  0.01704638  0.80117992]\n",
      " [ 0.69908127  0.48844833  1.        ]\n",
      " [ 0.37039641  0.71299387  1.        ]\n",
      " [-0.14546626  0.88505556  1.        ]\n",
      " [-0.07218851  0.9428029   1.        ]\n",
      " [-1.19048306  0.24070395  1.        ]\n",
      " [ 0.52917541  0.59953734  1.        ]\n",
      " [ 0.22111214  0.82610263  1.        ]\n",
      " [ 0.69573417  0.49052041  1.        ]]\n"
     ]
    }
   ],
   "source": [
    "#3(d)\n",
    "stud_res = model.outlier_test()\n",
    "# create scatterplot of predictor variable vs. studentized residuals\n",
    "plt.scatter(model.predict(), stud_res[:,0])\n",
    "plt.axhline(y=0, color='black', linestyle='--')\n",
    "plt.xlabel('fitted y')\n",
    "plt.ylabel('Studentized Residuals') \n",
    "plt.show()\n",
    "print(stud_res)"
   ]
  },
  {
   "cell_type": "code",
   "execution_count": 133,
   "id": "926d25a7",
   "metadata": {},
   "outputs": [
    {
     "data": {
      "image/png": "[encoded data removed]",
      "text/plain": [
       "<Figure size 432x288 with 5 Axes>"
      ]
     },
     "metadata": {
      "needs_background": "light"
     },
     "output_type": "display_data"
    }
   ],
   "source": [
    "#3(f)\n",
    "fig = sm.graphics.plot_partregress_grid(model)\n",
    "fig.tight_layout(pad=1.0)"
   ]
  },
  {
   "cell_type": "code",
   "execution_count": 134,
   "id": "2a8bd693",
   "metadata": {},
   "outputs": [],
   "source": [
    "# #Q4\n",
    "# data = pyreadr.read_r(r'C:\\Users\\Chenyi\\Desktop\\LR\\hw3\\cheddar.rda')\n",
    "# df=pd.concat(data, ignore_index = True) \n",
    "# y=df['taste'].values\n",
    "# x=df[['Acetic','H2S','Lactic']]"
   ]
  },
  {
   "cell_type": "code",
   "execution_count": 135,
   "id": "945cbec4",
   "metadata": {},
   "outputs": [],
   "source": [
    "# #4(a)\n",
    "# from pygam import LinearGAM\n",
    "# model=LinearGAM().fit(x,y)\n",
    "# ## plotting\n",
    "# plt.figure();\n",
    "# fig, axs = plt.subplots(1,3);\n",
    "\n",
    "# titles = ['year', 'age', 'education']\n",
    "# for i, ax in enumerate(axs):\n",
    "#     XX = gam.generate_X_grid(term=i)\n",
    "#     ax.plot(XX[:, i], gam.partial_dependence(term=i, X=XX))\n",
    "#     ax.plot(XX[:, i], gam.partial_dependence(term=i, X=XX, width=.95)[1], c='r', ls='--')\n",
    "#     if i == 0:\n",
    "#         ax.set_ylim(-30,30)\n",
    "#     ax.set_title(titles[i]);"
   ]
  },
  {
   "cell_type": "code",
   "execution_count": null,
   "id": "717bd545",
   "metadata": {},
   "outputs": [],
   "source": []
  },
  {
   "cell_type": "code",
   "execution_count": null,
   "id": "03a66304",
   "metadata": {},
   "outputs": [],
   "source": []
  }
 ],
 "metadata": {
  "kernelspec": {
   "display_name": "Python 3",
   "language": "python",
   "name": "python3"
  },
  "language_info": {
   "codemirror_mode": {
    "name": "ipython",
    "version": 3
   },
   "file_extension": ".py",
   "mimetype": "text/x-python",
   "name": "python",
   "nbconvert_exporter": "python",
   "pygments_lexer": "ipython3",
   "version": "3.8.8"
  }
 },
 "nbformat": 4,
 "nbformat_minor": 5
}
